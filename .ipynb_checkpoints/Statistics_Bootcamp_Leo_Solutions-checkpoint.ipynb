{
 "cells": [
  {
   "cell_type": "markdown",
   "metadata": {},
   "source": [
    "# Statistics and Data Journalism\n",
    "## HODP Bootcamp Week 5\n",
    "### March 2019\n",
    "\n",
    "With thanks to Seth Billiau, who first created this bootcamp."
   ]
  },
  {
   "cell_type": "code",
   "execution_count": 2,
   "metadata": {},
   "outputs": [
    {
     "data": {
      "text/plain": [
       "0"
      ]
     },
     "execution_count": 2,
     "metadata": {},
     "output_type": "execute_result"
    }
   ],
   "source": [
    "# Run this cell to make sure you have the requirements \n",
    "# It should return 0. Then, comment it out. \n",
    "\n",
    "import os \n",
    "os.system(\"pip3 install -r requirements.txt\")"
   ]
  },
  {
   "cell_type": "markdown",
   "metadata": {},
   "source": [
    "### Goals for this week:\n",
    "* Significance tests\n",
    "  - Two sample t-tests\n",
    "  - One sample t-tests\n",
    "* Confidence intervals\n",
    "* Causal effects and potential outcomes\n",
    "* Regression\n",
    "\n",
    "(thanks to Josh Angrist for the inspiration for the theme of this bootcamp)"
   ]
  },
  {
   "cell_type": "markdown",
   "metadata": {},
   "source": [
    "### Statistics\n",
    "We frequently debate the causal effects of health insurance. Does health insurance affect your health? Health care costs? What might happen if we expand free health insurance to more people? *Are the insured better off than they would have been if they had not been insured?*\n",
    "\n",
    "Implicit in this question is a non-obvious \"what-if\" comparison: what if you did/did not have health insurance? Would you be as healthy?\n",
    "\n",
    "We can observe the health differences between the insured and non-insured. But this may just tell us something about the people who are lucky enough to have health insurance in the United States. Let's set the stage by looking at the 2009 National Health Interview Survey, which measured health on a 5 point scale. \n",
    "\n",
    "First, we'll load it in:"
   ]
  },
  {
   "cell_type": "code",
   "execution_count": 63,
   "metadata": {},
   "outputs": [
    {
     "data": {
      "text/html": [
       "<div>\n",
       "<style scoped>\n",
       "    .dataframe tbody tr th:only-of-type {\n",
       "        vertical-align: middle;\n",
       "    }\n",
       "\n",
       "    .dataframe tbody tr th {\n",
       "        vertical-align: top;\n",
       "    }\n",
       "\n",
       "    .dataframe thead th {\n",
       "        text-align: right;\n",
       "    }\n",
       "</style>\n",
       "<table border=\"1\" class=\"dataframe\">\n",
       "  <thead>\n",
       "    <tr style=\"text-align: right;\">\n",
       "      <th></th>\n",
       "      <th>year</th>\n",
       "      <th>inc1</th>\n",
       "      <th>inc2</th>\n",
       "      <th>inc3</th>\n",
       "      <th>inc4</th>\n",
       "      <th>inc5</th>\n",
       "      <th>inc6</th>\n",
       "      <th>inc7</th>\n",
       "      <th>inc8</th>\n",
       "      <th>serial</th>\n",
       "      <th>...</th>\n",
       "      <th>yedu</th>\n",
       "      <th>empl</th>\n",
       "      <th>hlth</th>\n",
       "      <th>inc</th>\n",
       "      <th>incmp</th>\n",
       "      <th>brooks</th>\n",
       "      <th>marradult</th>\n",
       "      <th>marradult_empl</th>\n",
       "      <th>adltempl</th>\n",
       "      <th>hi_hsb1</th>\n",
       "    </tr>\n",
       "  </thead>\n",
       "  <tbody>\n",
       "    <tr>\n",
       "      <th>0</th>\n",
       "      <td>2009</td>\n",
       "      <td>19282.932</td>\n",
       "      <td>41679.344</td>\n",
       "      <td>61102.973</td>\n",
       "      <td>85985.781</td>\n",
       "      <td>167844.53</td>\n",
       "      <td>25398.326</td>\n",
       "      <td>109725.27</td>\n",
       "      <td>70834.641</td>\n",
       "      <td>1</td>\n",
       "      <td>...</td>\n",
       "      <td>14.0</td>\n",
       "      <td>1</td>\n",
       "      <td>4</td>\n",
       "      <td>19282.932</td>\n",
       "      <td>17500</td>\n",
       "      <td>1</td>\n",
       "      <td>0</td>\n",
       "      <td>0</td>\n",
       "      <td>0</td>\n",
       "      <td>NaN</td>\n",
       "    </tr>\n",
       "    <tr>\n",
       "      <th>1</th>\n",
       "      <td>2009</td>\n",
       "      <td>19282.932</td>\n",
       "      <td>41679.344</td>\n",
       "      <td>61102.973</td>\n",
       "      <td>85985.781</td>\n",
       "      <td>167844.53</td>\n",
       "      <td>25398.326</td>\n",
       "      <td>109725.27</td>\n",
       "      <td>70834.641</td>\n",
       "      <td>3</td>\n",
       "      <td>...</td>\n",
       "      <td>14.0</td>\n",
       "      <td>0</td>\n",
       "      <td>4</td>\n",
       "      <td>19282.932</td>\n",
       "      <td>17500</td>\n",
       "      <td>1</td>\n",
       "      <td>1</td>\n",
       "      <td>0</td>\n",
       "      <td>1</td>\n",
       "      <td>NaN</td>\n",
       "    </tr>\n",
       "    <tr>\n",
       "      <th>2</th>\n",
       "      <td>2009</td>\n",
       "      <td>19282.932</td>\n",
       "      <td>41679.344</td>\n",
       "      <td>61102.973</td>\n",
       "      <td>85985.781</td>\n",
       "      <td>167844.53</td>\n",
       "      <td>25398.326</td>\n",
       "      <td>109725.27</td>\n",
       "      <td>70834.641</td>\n",
       "      <td>3</td>\n",
       "      <td>...</td>\n",
       "      <td>4.0</td>\n",
       "      <td>0</td>\n",
       "      <td>5</td>\n",
       "      <td>19282.932</td>\n",
       "      <td>17500</td>\n",
       "      <td>0</td>\n",
       "      <td>0</td>\n",
       "      <td>0</td>\n",
       "      <td>1</td>\n",
       "      <td>NaN</td>\n",
       "    </tr>\n",
       "    <tr>\n",
       "      <th>3</th>\n",
       "      <td>2009</td>\n",
       "      <td>19282.932</td>\n",
       "      <td>41679.344</td>\n",
       "      <td>61102.973</td>\n",
       "      <td>85985.781</td>\n",
       "      <td>167844.53</td>\n",
       "      <td>25398.326</td>\n",
       "      <td>109725.27</td>\n",
       "      <td>70834.641</td>\n",
       "      <td>3</td>\n",
       "      <td>...</td>\n",
       "      <td>NaN</td>\n",
       "      <td>0</td>\n",
       "      <td>5</td>\n",
       "      <td>19282.932</td>\n",
       "      <td>17500</td>\n",
       "      <td>0</td>\n",
       "      <td>0</td>\n",
       "      <td>0</td>\n",
       "      <td>1</td>\n",
       "      <td>NaN</td>\n",
       "    </tr>\n",
       "    <tr>\n",
       "      <th>4</th>\n",
       "      <td>2009</td>\n",
       "      <td>19282.932</td>\n",
       "      <td>41679.344</td>\n",
       "      <td>61102.973</td>\n",
       "      <td>85985.781</td>\n",
       "      <td>167844.53</td>\n",
       "      <td>25398.326</td>\n",
       "      <td>109725.27</td>\n",
       "      <td>70834.641</td>\n",
       "      <td>3</td>\n",
       "      <td>...</td>\n",
       "      <td>11.0</td>\n",
       "      <td>1</td>\n",
       "      <td>4</td>\n",
       "      <td>19282.932</td>\n",
       "      <td>17500</td>\n",
       "      <td>1</td>\n",
       "      <td>1</td>\n",
       "      <td>1</td>\n",
       "      <td>1</td>\n",
       "      <td>0.0</td>\n",
       "    </tr>\n",
       "  </tbody>\n",
       "</table>\n",
       "<p>5 rows × 40 columns</p>\n",
       "</div>"
      ],
      "text/plain": [
       "   year       inc1       inc2       inc3       inc4       inc5       inc6  \\\n",
       "0  2009  19282.932  41679.344  61102.973  85985.781  167844.53  25398.326   \n",
       "1  2009  19282.932  41679.344  61102.973  85985.781  167844.53  25398.326   \n",
       "2  2009  19282.932  41679.344  61102.973  85985.781  167844.53  25398.326   \n",
       "3  2009  19282.932  41679.344  61102.973  85985.781  167844.53  25398.326   \n",
       "4  2009  19282.932  41679.344  61102.973  85985.781  167844.53  25398.326   \n",
       "\n",
       "        inc7       inc8  serial  ...  yedu  empl  hlth        inc  incmp  \\\n",
       "0  109725.27  70834.641       1  ...  14.0     1     4  19282.932  17500   \n",
       "1  109725.27  70834.641       3  ...  14.0     0     4  19282.932  17500   \n",
       "2  109725.27  70834.641       3  ...   4.0     0     5  19282.932  17500   \n",
       "3  109725.27  70834.641       3  ...   NaN     0     5  19282.932  17500   \n",
       "4  109725.27  70834.641       3  ...  11.0     1     4  19282.932  17500   \n",
       "\n",
       "  brooks marradult marradult_empl adltempl hi_hsb1  \n",
       "0      1         0              0        0     NaN  \n",
       "1      1         1              0        1     NaN  \n",
       "2      0         0              0        1     NaN  \n",
       "3      0         0              0        1     NaN  \n",
       "4      1         1              1        1     0.0  \n",
       "\n",
       "[5 rows x 40 columns]"
      ]
     },
     "execution_count": 63,
     "metadata": {},
     "output_type": "execute_result"
    }
   ],
   "source": [
    "import pandas as pd\n",
    "import numpy as np\n",
    "\n",
    "nhis = pd.read_csv(\"NHIS2009_clean.csv\")\n",
    "nhis.head()"
   ]
  },
  {
   "cell_type": "markdown",
   "metadata": {},
   "source": [
    "## Hypothesis Tests and P-Values\n",
    "### Are the insured healthier than the uninsured?\n",
    "#### A quick note on satistical vs causal inference \n",
    "In statistical inference, we:\n",
    "* Draw a sample from the population of interest\n",
    "* Use this sample to support conclusions about the population. We can either evaluate (test) hypotheses (are the uninsured healthier?), or measure (estimate) population parameters (how wealthy are the insured?)\n",
    "* We execute (a) and (b) via sampling varaince. This is the randomness of the *sampling distribution*, that is, the *distribution of sample statistics in repeated samples*. \n",
    "\n",
    "This differs from *causal* inference. (How?)\n",
    "\n",
    "Some terminology: we are interested in estimating *pararameters* , which are fixed but unknown. We estimate these with *sample statistics*, which are known instantiates of random estimators that vary as a function of our data. \n",
    "\n",
    "#### Two sample t-tests\n",
    "We're going to conduct a two sample t-test. We can do this with SciPy's built in t-test function. \n",
    "\n",
    "A two sample t-test is a test of how \"far\" two sample statistics are from each other; we're usually trying to see if they are significantly different from each other. You may have been taught about Type I/Type II error, and the \"power\" of tests, but we don't care about this in practice. Let's use Python to see if the health of the insured and uninsured are significantly different.\n",
    "\n",
    "Let's also plot a histogram of our observations using matplotlib, to get an idea of what we're looking at: "
   ]
  },
  {
   "cell_type": "code",
   "execution_count": 34,
   "metadata": {},
   "outputs": [
    {
     "data": {
      "image/png": "[encoded data removed]",
      "text/plain": [
       "<Figure size 576x396 with 2 Axes>"
      ]
     },
     "metadata": {},
     "output_type": "display_data"
    }
   ],
   "source": [
    "import matplotlib\n",
    "import matplotlib.pyplot as plt\n",
    "\n",
    "insured = nhis[nhis.hi == 1]\n",
    "uninsured = nhis[nhis.hi == 0]\n",
    "n_bins = 5\n",
    "fig, ax = plt.subplots(1, 2, sharey=True, tight_layout=True)\n",
    "ax[0].hist(insured.hlth, bins=n_bins)\n",
    "ax[0].set_title(\"Insured Health\", fontsize=14)\n",
    "ax[1].hist(uninsured.hlth, bins=n_bins)\n",
    "ax[1].set_title(\"Uninsured Health\", fontsize=14)\n",
    "\n",
    "plt.show()"
   ]
  },
  {
   "cell_type": "markdown",
   "metadata": {},
   "source": [
    "Seems like the insured are healthier. And indeed: "
   ]
  },
  {
   "cell_type": "code",
   "execution_count": 95,
   "metadata": {},
   "outputs": [
    {
     "name": "stdout",
     "output_type": "stream",
     "text": [
      "Difference in means 0.06768229857465835\n"
     ]
    },
    {
     "data": {
      "text/plain": [
       "Ttest_indResult(statistic=2.843989243130625, pvalue=0.004485015763258581)"
      ]
     },
     "execution_count": 95,
     "metadata": {},
     "output_type": "execute_result"
    }
   ],
   "source": [
    "from scipy import stats\n",
    "\n",
    "print(\"Difference in means\", np.mean(insured.hlth) - np.mean(uninsured.hlth))\n",
    "stats.ttest_ind(insured.hlth, uninsured.hlth, equal_var = False)"
   ]
  },
  {
   "cell_type": "markdown",
   "metadata": {},
   "source": [
    "But what about their other characteristics? Let's look at income and employment, coded as \"inc\" and \"empl\" in our dataset. Years of education is \"yedu\"\n",
    "\n",
    "If you have time, try testing race, age, education, and family size. Are all of these significant?"
   ]
  },
  {
   "cell_type": "code",
   "execution_count": 8,
   "metadata": {},
   "outputs": [
    {
     "name": "stdout",
     "output_type": "stream",
     "text": [
      "Difference in income: 31288.967791772382\n"
     ]
    },
    {
     "data": {
      "text/plain": [
       "Ttest_indResult(statistic=82.60264619641333, pvalue=0.0)"
      ]
     },
     "execution_count": 8,
     "metadata": {},
     "output_type": "execute_result"
    }
   ],
   "source": [
    "print(\"Difference in income:\", np.mean(insured.inc) - np.mean(uninsured.inc))\n",
    "stats.ttest_ind(insured.inc, uninsured.inc, equal_var = False)"
   ]
  },
  {
   "cell_type": "code",
   "execution_count": 9,
   "metadata": {},
   "outputs": [
    {
     "name": "stdout",
     "output_type": "stream",
     "text": [
      "Difference in employment: -0.07430669409438828\n"
     ]
    },
    {
     "data": {
      "text/plain": [
       "Ttest_indResult(statistic=-16.02946058785302, pvalue=1.7967305096087134e-57)"
      ]
     },
     "execution_count": 9,
     "metadata": {},
     "output_type": "execute_result"
    }
   ],
   "source": [
    "print(\"Difference in employment:\", np.mean(insured.empl) - np.mean(uninsured.empl))\n",
    "stats.ttest_ind(insured.empl, uninsured.empl, equal_var = False)"
   ]
  },
  {
   "cell_type": "markdown",
   "metadata": {},
   "source": [
    "### Interpreting the Results\n",
    "Now, we have a p-value. The p-value is often misunderstood or improperly interpreted, so it's very important to know what it actually means. **A p-value is the probability of observing our data given that the null hypothesis is correct.** Here, the null hypothesis is that the means are equal. \n",
    "\n",
    "*(A common pitfall when interpreting p-values is to think of the p-value as the probability of the null hypothesis being correct, but this interpretation is wrong.)*\n",
    "\n",
    "In general, a common rule of thumb is to reject the null hypothesis when the p-value is less than 0.05. When we fail to reject the null hypothesis, we should never say that we \"accept\" or \"prove\" the null. All we have done is failed to reject it; we can never prove the null hypothesis true.\n",
    "\n",
    "In this case, with high p-values (< 0.001), we can reject the null hypothesis. We have significant evidence that the insured are healthier than the uninsured, but they are also far wealthier, and more likely to be employed. \n",
    "\n",
    "We could also think about this as testing if the difference in means is \"significantly far from\" zero, the hypothesized \"true\" value. This is called a one-sample test. To run such a test, you can use the stats.ttest_1samp() command (documentation here: https://docs.scipy.org/doc/scipy/reference/generated/scipy.stats.f_oneway.html)\n",
    "\n",
    "These days, people don't like to report p-values as much: instead, we look at the standard error, and think about the confidence interval."
   ]
  },
  {
   "cell_type": "markdown",
   "metadata": {},
   "source": [
    "Equally important in data journalism: add an interpretation of your data analysis here! "
   ]
  },
  {
   "cell_type": "markdown",
   "metadata": {},
   "source": [
    "### Multiple testing problem\n",
    "The p-value is the probability of observing a \"significant\" result, given that the populations are not *actually* different. But if we test a large number of different hypotheses, we are likely to get at least one significant result -- trivially, if we test 20 parameters and all are equal between the populations, we would get one significant result *in expectation*!\n",
    "\n",
    "In this case, we usually use an F-test (ANOVA) instead. As a rule, if you are testing more than 3-4 differences in means, you should be concerned about this -- ask us for more info!"
   ]
  },
  {
   "cell_type": "markdown",
   "metadata": {},
   "source": [
    "### A note on non-normality and other tests\n",
    "If our normality assumptions fail for our observations, we would be better off performing a nonparametric test like a permutation test. A permutation works by assuming that the labels of \"insured\" and \"uninsured\" make no difference in determining proportions. Therefore, shuffling up the labels should not affect averages between the two groups. \n",
    "\n",
    "In practice, the Central Limit Theorem tells us repeated random samples give us normal distributions.\n",
    "\n",
    "The permutation test works by shuffling labels and computing differences in means many times. This produces a distribution of test statistics. Then, we calculate a p-value by finding the probability of observing a test statistic as extreme or more extreme than the one produced by our particular permutation of labels and proportions. \n",
    "\n",
    "Code to do this is given below. "
   ]
  },
  {
   "cell_type": "code",
   "execution_count": 8,
   "metadata": {},
   "outputs": [
    {
     "data": {
      "image/png": "[encoded data removed]",
      "text/plain": [
       "<Figure size 720x360 with 1 Axes>"
      ]
     },
     "metadata": {
      "needs_background": "light"
     },
     "output_type": "display_data"
    },
    {
     "data": {
      "text/plain": [
       "0.0"
      ]
     },
     "execution_count": 8,
     "metadata": {},
     "output_type": "execute_result"
    }
   ],
   "source": [
    "import seaborn as sns\n",
    "from mlxtend.evaluate import permutation_test\n",
    "\n",
    "f, ax = plt.subplots(1,1, figsize=(10, 5))\n",
    "sns.boxplot(x='hi', y='hlth', data=nhis)\n",
    "ax.set_xlabel(\"Insurance Status\", fontsize=14)\n",
    "ax.set_ylabel(\"Proportion\", fontsize=14)\n",
    "ax.set_title(\"Health\", fontsize=14)\n",
    "plt.show()\n",
    "\n",
    "p_value = permutation_test(insured.hlth, uninsured.hlth,\n",
    "                           method='approximate',\n",
    "                           num_rounds=10000,\n",
    "                           seed=0)\n",
    "\n",
    "p_value"
   ]
  },
  {
   "cell_type": "markdown",
   "metadata": {},
   "source": [
    "This test does not assume normality, but it does assume that the two groups are drawn from the same distribution. This assumption needs to be checked as well. We will check it by using boxplots. The trade off is that while permutation tests are great for calculating p-values, unlike t-tests they aren't great for confidence intervals."
   ]
  },
  {
   "cell_type": "markdown",
   "metadata": {},
   "source": [
    "## Confidence Intervals\n",
    "\n",
    "We already have some intuition about confidence intervals, since we've performed a t test. The t statistic is normal (for large values of n), regardless of the distribution of the underlying data. The \"critical value\" for our test is the value of t that gives us our threshold value of p that we chose earlier. For p = 0.05, it's approximately 2. \n",
    "\n",
    "A 95% confidence interval brackets the population mean of our variable 95% of the time. *What time is that?* When we draw repeated samples! \n",
    "\n",
    "But we don't draw repeated samples: we only draw one. But this statement tells us how likely the interval is to cover the population mean *if we were to draw such repeated samples*.\n",
    "\n",
    "What's a 100% confidence interval?\n",
    "\n",
    "Now, let's construct a 95% confidence interval for the difference in income between the insured and uninsured.\n",
    "\n",
    "We have to do a bit more work to generate a confidence interval in Python. We need to provide SciPy's interval function with a confidence level, a center (the sample mean), and a scale (the standard error, which is the sample standard deviation divided by the square root of one less than the length of the dataset)."
   ]
  },
  {
   "cell_type": "code",
   "execution_count": 10,
   "metadata": {},
   "outputs": [
    {
     "data": {
      "text/plain": [
       "(0.132866974503495, 0.15328166826782458)"
      ]
     },
     "execution_count": 10,
     "metadata": {},
     "output_type": "execute_result"
    }
   ],
   "source": [
    "mean = np.mean(insured.hlth) - np.mean(uninsured.hlth) \n",
    "sigma = np.sqrt(np.power(np.std(insured.hlth),2) + np.power(np.std(uninsured.hlth),2))\n",
    "\n",
    "conf_int = stats.norm.interval(0.95, \n",
    "                               loc = mean, \n",
    "                               scale = sigma/np.sqrt(len(insured.hlth) + len(uninsured.hlth) - 1))\n",
    "conf_int"
   ]
  },
  {
   "cell_type": "markdown",
   "metadata": {},
   "source": [
    "Cool! We can verify our p-value here intuitively. What's not in our interval?"
   ]
  },
  {
   "cell_type": "markdown",
   "metadata": {},
   "source": [
    "## Observed versus Potential Outcomes\n",
    "*Causal effect or selection bias?*\n",
    "\n",
    "When it comes to differences by insurance status, *ceteris* is not *paribus*. A little formal notation makes the difference precise. For each person, indexed by $i$, define two possibilities:\n",
    "* Health of person $i$ when $i$ is insured: $Y_{1i}$\n",
    "* Health of person $i$ when $i$ is uninsured: $Y_{0i}$\n",
    "\n",
    "The causal effect of insurance on person $i$ is \n",
    "\n",
    "$$ Y_{1i} - Y_{0i} $$\n",
    "\n",
    "We can hope to measure the average causal effect, $E[Y_{1i}-Y_{0i}]$, or the effect of *treatment on the treated*, that is $E[Y_{1i}-Y_{0i}|D_i = 1]$, where $D$ is a dummy that is equal to $1$ if the individual is insured. The first tells us if insurance benefits all in the population, on average, while TOT tells us if those in the insured population benefit from *their coverage*. \n",
    "\n",
    "Why can't we observe this? Write out TOT as:\n",
    "\n",
    "$$ E[Y_{1i}-Y_{0i}|D_i=1] = E[Y_{1i}|D_i=1] - E[Y_{0i}|D_i=1] $$\n",
    "\n",
    "But, we can *never* observe $E[Y_{0i}|D_i=1]$. Why? \n",
    "\n",
    "What if we just considered:\n",
    "\n",
    "$$ E[Y_{i}|D_i=1] - E[Y_{i}|D_i=0] $$\n",
    "\n",
    "Why is this not satisfying? We have an intuition, but let's quantify this just a bit more. \n",
    "\n",
    "$$ E[Y_{i}|D_i=1] - E[Y_{i}|D_i=0] = E[Y_{1i}|D_i=1] - E[Y_{0i}|D_i=0] $$\n",
    "$$ = E[Y_{1i} - Y_{0i}|D_i=1] + \\{E[Y_{0i}|D_i=1] - E[Y_{0i}|D_i=0] \\} $$\n",
    "\n",
    "The naiive difference we computed is the causal effect plus the term in curly brackets, which we call the *selection bias*. Intuitively, it's the additional amount that people without health insurance would have been better off if they had health insurance. "
   ]
  },
  {
   "cell_type": "markdown",
   "metadata": {},
   "source": [
    "An aside: it's pretty rare that we'll be able to show causation in a HODP article, so it's important to frame most of our work as a correlation or trend we noticed, rather than as a direct cause. Often, though, it will intuitively make sense that there \"should\" or at least \"could\" be a causal connection. In those cases, make sure to frame your writing as a \"possible explanation\" than as a statement of what is going on. Cite other research on whether such a trend has a causal effect, or to cite relevant quantitative work."
   ]
  },
  {
   "cell_type": "markdown",
   "metadata": {},
   "source": [
    "## Random Assignment\n",
    "Random assignment eliminates selection bias. The insured and uninsured are the same in every other way! Convince yourself of this by looking at the above math if we knew $E[Y_{1i}|D_i=1] = E[Y_{1i}|D_i=0]$. The average causal effect is the same as the average causal effect on the treated. \n",
    "\n",
    "### We aren't running experiments! Why did you explain all this?\n",
    "Randomized research designs are a somewhat unnatainable ideal. We can't often do them. But, by understanding the framework, we can judge our attempts by how closely they're able to shape up. \n",
    "\n",
    "The first question to be answered when thinking about causal effects is thus always: *What's the experiment you'd like to do?*"
   ]
  },
  {
   "cell_type": "markdown",
   "metadata": {},
   "source": [
    "## The RAND Health Insurance Experiment\n",
    "In the 1970s, researchers at RAND randomly assigned 6,000 people to experimental insurance plans that required either no cost-sharing, a modest deductible, or 25%, 50%, or 95% coinsurance rates on subscribes.\n",
    "\n",
    "I've gone through and cleaned the dataset for you. The no cost-sharing \"Free\" plan is plantype 1, plantype 2 is the \"Individual Deductible\", plantype 3 are the two \"Cost-Sharing\", and plantype 4 is the 95% coinsurance \"Catastrophic\" plan.\n",
    "\n",
    "\n",
    "Let's import the data and see what happened:"
   ]
  },
  {
   "cell_type": "code",
   "execution_count": 10,
   "metadata": {
    "scrolled": true
   },
   "outputs": [
    {
     "name": "stderr",
     "output_type": "stream",
     "text": [
      "/usr/local/lib/python3.7/site-packages/IPython/core/interactiveshell.py:3058: DtypeWarning: Columns (73,123,275,279) have mixed types. Specify dtype option on import or set low_memory=False.\n",
      "  interactivity=interactivity, compiler=compiler, result=result)\n"
     ]
    },
    {
     "data": {
      "text/html": [
       "<div>\n",
       "<style scoped>\n",
       "    .dataframe tbody tr th:only-of-type {\n",
       "        vertical-align: middle;\n",
       "    }\n",
       "\n",
       "    .dataframe tbody tr th {\n",
       "        vertical-align: top;\n",
       "    }\n",
       "\n",
       "    .dataframe thead th {\n",
       "        text-align: right;\n",
       "    }\n",
       "</style>\n",
       "<table border=\"1\" class=\"dataframe\">\n",
       "  <thead>\n",
       "    <tr style=\"text-align: right;\">\n",
       "      <th></th>\n",
       "      <th>person</th>\n",
       "      <th>year</th>\n",
       "      <th>spending</th>\n",
       "      <th>inp</th>\n",
       "      <th>out</th>\n",
       "      <th>out_rand</th>\n",
       "      <th>mental</th>\n",
       "      <th>mdcl</th>\n",
       "      <th>drugs</th>\n",
       "      <th>supplies</th>\n",
       "      <th>...</th>\n",
       "      <th>mde</th>\n",
       "      <th>coins</th>\n",
       "      <th>coins_dental</th>\n",
       "      <th>inpdol</th>\n",
       "      <th>outpdol</th>\n",
       "      <th>meddol</th>\n",
       "      <th>totadm</th>\n",
       "      <th>outsum</th>\n",
       "      <th>hosp_spend</th>\n",
       "      <th>plantype</th>\n",
       "    </tr>\n",
       "  </thead>\n",
       "  <tbody>\n",
       "    <tr>\n",
       "      <th>0</th>\n",
       "      <td>MA250247</td>\n",
       "      <td>1</td>\n",
       "      <td>14.35</td>\n",
       "      <td>0.0</td>\n",
       "      <td>14.35</td>\n",
       "      <td>14.35</td>\n",
       "      <td>0.0</td>\n",
       "      <td>14.35</td>\n",
       "      <td>14.35</td>\n",
       "      <td>0.0</td>\n",
       "      <td>...</td>\n",
       "      <td>1000.0</td>\n",
       "      <td>1.00</td>\n",
       "      <td>1.00</td>\n",
       "      <td>0.0</td>\n",
       "      <td>0.0</td>\n",
       "      <td>14.35</td>\n",
       "      <td>0.0</td>\n",
       "      <td>14.35</td>\n",
       "      <td>14.35</td>\n",
       "      <td>4</td>\n",
       "    </tr>\n",
       "    <tr>\n",
       "      <th>1</th>\n",
       "      <td>MA250247</td>\n",
       "      <td>2</td>\n",
       "      <td>115.15</td>\n",
       "      <td>0.0</td>\n",
       "      <td>115.15</td>\n",
       "      <td>115.15</td>\n",
       "      <td>0.0</td>\n",
       "      <td>115.15</td>\n",
       "      <td>24.65</td>\n",
       "      <td>0.0</td>\n",
       "      <td>...</td>\n",
       "      <td>1000.0</td>\n",
       "      <td>0.95</td>\n",
       "      <td>0.95</td>\n",
       "      <td>0.0</td>\n",
       "      <td>90.5</td>\n",
       "      <td>115.15</td>\n",
       "      <td>0.0</td>\n",
       "      <td>115.15</td>\n",
       "      <td>115.15</td>\n",
       "      <td>4</td>\n",
       "    </tr>\n",
       "    <tr>\n",
       "      <th>2</th>\n",
       "      <td>MA250247</td>\n",
       "      <td>3</td>\n",
       "      <td>0.00</td>\n",
       "      <td>0.0</td>\n",
       "      <td>0.00</td>\n",
       "      <td>0.00</td>\n",
       "      <td>0.0</td>\n",
       "      <td>0.00</td>\n",
       "      <td>0.00</td>\n",
       "      <td>0.0</td>\n",
       "      <td>...</td>\n",
       "      <td>1000.0</td>\n",
       "      <td>0.95</td>\n",
       "      <td>0.95</td>\n",
       "      <td>0.0</td>\n",
       "      <td>0.0</td>\n",
       "      <td>0.00</td>\n",
       "      <td>0.0</td>\n",
       "      <td>0.00</td>\n",
       "      <td>0.00</td>\n",
       "      <td>4</td>\n",
       "    </tr>\n",
       "    <tr>\n",
       "      <th>3</th>\n",
       "      <td>MA250247</td>\n",
       "      <td>4</td>\n",
       "      <td>110.00</td>\n",
       "      <td>0.0</td>\n",
       "      <td>110.00</td>\n",
       "      <td>0.00</td>\n",
       "      <td>0.0</td>\n",
       "      <td>0.00</td>\n",
       "      <td>0.00</td>\n",
       "      <td>0.0</td>\n",
       "      <td>...</td>\n",
       "      <td>1000.0</td>\n",
       "      <td>0.95</td>\n",
       "      <td>0.95</td>\n",
       "      <td>0.0</td>\n",
       "      <td>0.0</td>\n",
       "      <td>0.00</td>\n",
       "      <td>0.0</td>\n",
       "      <td>0.00</td>\n",
       "      <td>0.00</td>\n",
       "      <td>4</td>\n",
       "    </tr>\n",
       "    <tr>\n",
       "      <th>4</th>\n",
       "      <td>MA250247</td>\n",
       "      <td>5</td>\n",
       "      <td>0.00</td>\n",
       "      <td>0.0</td>\n",
       "      <td>0.00</td>\n",
       "      <td>0.00</td>\n",
       "      <td>0.0</td>\n",
       "      <td>0.00</td>\n",
       "      <td>0.00</td>\n",
       "      <td>0.0</td>\n",
       "      <td>...</td>\n",
       "      <td>1000.0</td>\n",
       "      <td>0.95</td>\n",
       "      <td>0.95</td>\n",
       "      <td>0.0</td>\n",
       "      <td>0.0</td>\n",
       "      <td>0.00</td>\n",
       "      <td>0.0</td>\n",
       "      <td>0.00</td>\n",
       "      <td>0.00</td>\n",
       "      <td>4</td>\n",
       "    </tr>\n",
       "  </tbody>\n",
       "</table>\n",
       "<p>5 rows × 314 columns</p>\n",
       "</div>"
      ],
      "text/plain": [
       "     person  year  spending  inp     out  out_rand  mental    mdcl  drugs  \\\n",
       "0  MA250247     1     14.35  0.0   14.35     14.35     0.0   14.35  14.35   \n",
       "1  MA250247     2    115.15  0.0  115.15    115.15     0.0  115.15  24.65   \n",
       "2  MA250247     3      0.00  0.0    0.00      0.00     0.0    0.00   0.00   \n",
       "3  MA250247     4    110.00  0.0  110.00      0.00     0.0    0.00   0.00   \n",
       "4  MA250247     5      0.00  0.0    0.00      0.00     0.0    0.00   0.00   \n",
       "\n",
       "   supplies  ...     mde  coins  coins_dental  inpdol  outpdol  meddol  \\\n",
       "0       0.0  ...  1000.0   1.00          1.00     0.0      0.0   14.35   \n",
       "1       0.0  ...  1000.0   0.95          0.95     0.0     90.5  115.15   \n",
       "2       0.0  ...  1000.0   0.95          0.95     0.0      0.0    0.00   \n",
       "3       0.0  ...  1000.0   0.95          0.95     0.0      0.0    0.00   \n",
       "4       0.0  ...  1000.0   0.95          0.95     0.0      0.0    0.00   \n",
       "\n",
       "   totadm  outsum  hosp_spend  plantype  \n",
       "0     0.0   14.35       14.35         4  \n",
       "1     0.0  115.15      115.15         4  \n",
       "2     0.0    0.00        0.00         4  \n",
       "3     0.0    0.00        0.00         4  \n",
       "4     0.0    0.00        0.00         4  \n",
       "\n",
       "[5 rows x 314 columns]"
      ]
     },
     "execution_count": 10,
     "metadata": {},
     "output_type": "execute_result"
    }
   ],
   "source": [
    "rand = pd.read_csv(\"randhie_spending.csv\")\n",
    "rand.head()"
   ]
  },
  {
   "cell_type": "markdown",
   "metadata": {},
   "source": [
    "### Impact!\n",
    "Economists before RAND believed that health spending was inelastic, that is, you went to the hospital when you *needed* to, it didn't vary depending on what it cost. (Why is this important?)\n",
    "\n",
    "Did giving people healthcare make them spend more on insurance? Run a t test where you compare plantype 1 and 4, for instance, using hosp_spend, which is the sum of in-patient and out-patient spending.\n",
    "\n",
    "What if we just look at in-patient (inpdol) spending? Why might that be different? \n",
    "\n",
    "Why might we care about this? How would you report these results?"
   ]
  },
  {
   "cell_type": "code",
   "execution_count": 11,
   "metadata": {},
   "outputs": [
    {
     "name": "stdout",
     "output_type": "stream",
     "text": [
      "Difference in healthcare spending: 139.82776268394656\n"
     ]
    },
    {
     "data": {
      "text/plain": [
       "Ttest_indResult(statistic=5.126715496398423, pvalue=3.015712240200642e-07)"
      ]
     },
     "execution_count": 11,
     "metadata": {},
     "output_type": "execute_result"
    }
   ],
   "source": [
    "# Write a t-test comparing hosp_spend across plantypes here \n",
    "\n",
    "free = rand[rand.plantype == 1]\n",
    "catastrophic = rand[rand.plantype == 4]\n",
    "\n",
    "print(\"Difference in healthcare spending:\", np.mean(free.hosp_spend) - np.mean(catastrophic.hosp_spend))\n",
    "stats.ttest_ind(free.hosp_spend, catastrophic.hosp_spend, equal_var = False)\n",
    "# Generate a confidence interval for the difference"
   ]
  },
  {
   "cell_type": "code",
   "execution_count": 12,
   "metadata": {},
   "outputs": [
    {
     "name": "stdout",
     "output_type": "stream",
     "text": [
      "Difference in healthcare spending: 56.081774943310705\n"
     ]
    },
    {
     "data": {
      "text/plain": [
       "Ttest_indResult(statistic=2.2584794441704705, pvalue=0.023941999200629702)"
      ]
     },
     "execution_count": 12,
     "metadata": {},
     "output_type": "execute_result"
    }
   ],
   "source": [
    "# now compare indpol\n",
    "\n",
    "print(\"Difference in healthcare spending:\", np.mean(free.inpdol) - np.mean(catastrophic.inpdol))\n",
    "stats.ttest_ind(free.inpdol, catastrophic.inpdol, equal_var = False)"
   ]
  },
  {
   "cell_type": "code",
   "execution_count": 13,
   "metadata": {},
   "outputs": [
    {
     "data": {
      "text/plain": [
       "(103.25810763332576, 176.39741773456734)"
      ]
     },
     "execution_count": 13,
     "metadata": {},
     "output_type": "execute_result"
    }
   ],
   "source": [
    "# construct a confidence interval for the difference in hosp_spend or impdol! \n",
    "\n",
    "mean = np.mean(free.hosp_spend) - np.mean(catastrophic.hosp_spend) \n",
    "sigma = np.sqrt(np.power(np.std(free.hosp_spend),2) + np.power(np.std(catastrophic.hosp_spend),2))\n",
    "\n",
    "conf_int = stats.norm.interval(0.95, \n",
    "                               loc = mean, \n",
    "                               scale = sigma/np.sqrt(len(free.hosp_spend) + len(catastrophic.hosp_spend) - 1))\n",
    "conf_int"
   ]
  },
  {
   "cell_type": "markdown",
   "metadata": {},
   "source": [
    "## ... Impact?\n",
    "Ok, but did those on the \"free\" plan at least become healthier? Let's find out: compare ghindxx, a measure of health at exit of the survey, across the \"Catastrophic\" and \"Free\" groups. "
   ]
  },
  {
   "cell_type": "code",
   "execution_count": 20,
   "metadata": {},
   "outputs": [
    {
     "data": {
      "text/html": [
       "<div>\n",
       "<style scoped>\n",
       "    .dataframe tbody tr th:only-of-type {\n",
       "        vertical-align: middle;\n",
       "    }\n",
       "\n",
       "    .dataframe tbody tr th {\n",
       "        vertical-align: top;\n",
       "    }\n",
       "\n",
       "    .dataframe thead th {\n",
       "        text-align: right;\n",
       "    }\n",
       "</style>\n",
       "<table border=\"1\" class=\"dataframe\">\n",
       "  <thead>\n",
       "    <tr style=\"text-align: right;\">\n",
       "      <th></th>\n",
       "      <th>person</th>\n",
       "      <th>site</th>\n",
       "      <th>instat</th>\n",
       "      <th>bfamily</th>\n",
       "      <th>bhh</th>\n",
       "      <th>xperson</th>\n",
       "      <th>baseld</th>\n",
       "      <th>enrterm</th>\n",
       "      <th>enrdate</th>\n",
       "      <th>annd</th>\n",
       "      <th>...</th>\n",
       "      <th>cap</th>\n",
       "      <th>capx</th>\n",
       "      <th>pfi</th>\n",
       "      <th>pfix</th>\n",
       "      <th>mhi</th>\n",
       "      <th>mhix</th>\n",
       "      <th>ghindx</th>\n",
       "      <th>ghindxx</th>\n",
       "      <th>merge2</th>\n",
       "      <th>merge3</th>\n",
       "    </tr>\n",
       "  </thead>\n",
       "  <tbody>\n",
       "    <tr>\n",
       "      <th>0</th>\n",
       "      <td>NaN</td>\n",
       "      <td>NaN</td>\n",
       "      <td>NaN</td>\n",
       "      <td>NaN</td>\n",
       "      <td>NaN</td>\n",
       "      <td>NaN</td>\n",
       "      <td>NaN</td>\n",
       "      <td>NaN</td>\n",
       "      <td>NaN</td>\n",
       "      <td>NaN</td>\n",
       "      <td>...</td>\n",
       "      <td>NaN</td>\n",
       "      <td>NaN</td>\n",
       "      <td>NaN</td>\n",
       "      <td>NaN</td>\n",
       "      <td>NaN</td>\n",
       "      <td>NaN</td>\n",
       "      <td>NaN</td>\n",
       "      <td>NaN</td>\n",
       "      <td>using only (2)</td>\n",
       "      <td>master only (1)</td>\n",
       "    </tr>\n",
       "    <tr>\n",
       "      <th>1</th>\n",
       "      <td>MA250247</td>\n",
       "      <td>Dayton</td>\n",
       "      <td>1.0</td>\n",
       "      <td>KA100082</td>\n",
       "      <td>JA000082</td>\n",
       "      <td>MA250271</td>\n",
       "      <td>19740618.0</td>\n",
       "      <td>5.0</td>\n",
       "      <td>19750201.0</td>\n",
       "      <td>201.0</td>\n",
       "      <td>...</td>\n",
       "      <td>NaN</td>\n",
       "      <td>100.0</td>\n",
       "      <td>5.0</td>\n",
       "      <td>5.0</td>\n",
       "      <td>95.000000</td>\n",
       "      <td>94.699997</td>\n",
       "      <td>NaN</td>\n",
       "      <td>71.599998</td>\n",
       "      <td>matched (3)</td>\n",
       "      <td>matched (3)</td>\n",
       "    </tr>\n",
       "    <tr>\n",
       "      <th>2</th>\n",
       "      <td>MA250255</td>\n",
       "      <td>Dayton</td>\n",
       "      <td>1.0</td>\n",
       "      <td>KA100082</td>\n",
       "      <td>JA000082</td>\n",
       "      <td>MA250271</td>\n",
       "      <td>19740618.0</td>\n",
       "      <td>5.0</td>\n",
       "      <td>19750201.0</td>\n",
       "      <td>201.0</td>\n",
       "      <td>...</td>\n",
       "      <td>NaN</td>\n",
       "      <td>100.0</td>\n",
       "      <td>5.0</td>\n",
       "      <td>5.0</td>\n",
       "      <td>93.800003</td>\n",
       "      <td>76.099998</td>\n",
       "      <td>NaN</td>\n",
       "      <td>69.300003</td>\n",
       "      <td>matched (3)</td>\n",
       "      <td>matched (3)</td>\n",
       "    </tr>\n",
       "    <tr>\n",
       "      <th>3</th>\n",
       "      <td>MA250263</td>\n",
       "      <td>Dayton</td>\n",
       "      <td>1.0</td>\n",
       "      <td>KA100082</td>\n",
       "      <td>JA000082</td>\n",
       "      <td>MA250271</td>\n",
       "      <td>19740618.0</td>\n",
       "      <td>5.0</td>\n",
       "      <td>19750201.0</td>\n",
       "      <td>201.0</td>\n",
       "      <td>...</td>\n",
       "      <td>NaN</td>\n",
       "      <td>100.0</td>\n",
       "      <td>5.0</td>\n",
       "      <td>5.0</td>\n",
       "      <td>98.699997</td>\n",
       "      <td>96.800003</td>\n",
       "      <td>NaN</td>\n",
       "      <td>92.000000</td>\n",
       "      <td>matched (3)</td>\n",
       "      <td>matched (3)</td>\n",
       "    </tr>\n",
       "    <tr>\n",
       "      <th>4</th>\n",
       "      <td>MA250271</td>\n",
       "      <td>Dayton</td>\n",
       "      <td>1.0</td>\n",
       "      <td>KA100082</td>\n",
       "      <td>JA000082</td>\n",
       "      <td>MA250271</td>\n",
       "      <td>19740618.0</td>\n",
       "      <td>5.0</td>\n",
       "      <td>19750201.0</td>\n",
       "      <td>201.0</td>\n",
       "      <td>...</td>\n",
       "      <td>NaN</td>\n",
       "      <td>100.0</td>\n",
       "      <td>5.0</td>\n",
       "      <td>5.0</td>\n",
       "      <td>96.300003</td>\n",
       "      <td>80.300003</td>\n",
       "      <td>NaN</td>\n",
       "      <td>73.900002</td>\n",
       "      <td>matched (3)</td>\n",
       "      <td>matched (3)</td>\n",
       "    </tr>\n",
       "  </tbody>\n",
       "</table>\n",
       "<p>5 rows × 364 columns</p>\n",
       "</div>"
      ],
      "text/plain": [
       "     person    site  instat   bfamily       bhh   xperson      baseld  \\\n",
       "0       NaN     NaN     NaN       NaN       NaN       NaN         NaN   \n",
       "1  MA250247  Dayton     1.0  KA100082  JA000082  MA250271  19740618.0   \n",
       "2  MA250255  Dayton     1.0  KA100082  JA000082  MA250271  19740618.0   \n",
       "3  MA250263  Dayton     1.0  KA100082  JA000082  MA250271  19740618.0   \n",
       "4  MA250271  Dayton     1.0  KA100082  JA000082  MA250271  19740618.0   \n",
       "\n",
       "   enrterm     enrdate   annd  ...  cap   capx  pfi  pfix        mhi  \\\n",
       "0      NaN         NaN    NaN  ...  NaN    NaN  NaN   NaN        NaN   \n",
       "1      5.0  19750201.0  201.0  ...  NaN  100.0  5.0   5.0  95.000000   \n",
       "2      5.0  19750201.0  201.0  ...  NaN  100.0  5.0   5.0  93.800003   \n",
       "3      5.0  19750201.0  201.0  ...  NaN  100.0  5.0   5.0  98.699997   \n",
       "4      5.0  19750201.0  201.0  ...  NaN  100.0  5.0   5.0  96.300003   \n",
       "\n",
       "        mhix  ghindx    ghindxx          merge2           merge3  \n",
       "0        NaN     NaN        NaN  using only (2)  master only (1)  \n",
       "1  94.699997     NaN  71.599998     matched (3)      matched (3)  \n",
       "2  76.099998     NaN  69.300003     matched (3)      matched (3)  \n",
       "3  96.800003     NaN  92.000000     matched (3)      matched (3)  \n",
       "4  80.300003     NaN  73.900002     matched (3)      matched (3)  \n",
       "\n",
       "[5 rows x 364 columns]"
      ]
     },
     "execution_count": 20,
     "metadata": {},
     "output_type": "execute_result"
    }
   ],
   "source": [
    "rand = pd.read_csv(\"randhie_health.csv\")\n",
    "rand.head()"
   ]
  },
  {
   "cell_type": "code",
   "execution_count": 21,
   "metadata": {},
   "outputs": [
    {
     "name": "stdout",
     "output_type": "stream",
     "text": [
      "Difference in health: -0.7759148110173157\n"
     ]
    },
    {
     "data": {
      "text/plain": [
       "(-1.7241393008316277, 0.17230967879699632)"
      ]
     },
     "execution_count": 21,
     "metadata": {},
     "output_type": "execute_result"
    }
   ],
   "source": [
    "free = rand[rand.plantype == 1]\n",
    "catastrophic = rand[rand.plantype == 4]\n",
    "\n",
    "print(\"Difference in health:\", np.mean(free.ghindxx) - np.mean(catastrophic.ghindxx))\n",
    "# we need to drop NaNs here, so add .dropna() to the two subgroups you're comparing \n",
    "\n",
    "stats.ttest_ind(free.ghindxx.dropna(), catastrophic.ghindxx.dropna(), equal_var = False)\n",
    "\n",
    "# Generate a confidence interval for the difference\n",
    "\n",
    "mean = np.mean(free.ghindxx) - np.mean(catastrophic.ghindxx) \n",
    "sigma = np.sqrt(np.power(np.std(free.ghindxx),2) + np.power(np.std(catastrophic.ghindxx),2))\n",
    "\n",
    "conf_int = stats.norm.interval(0.95, \n",
    "                               loc = mean, \n",
    "                               scale = sigma/np.sqrt(len(free.ghindxx) + len(catastrophic.ghindxx) - 1))\n",
    "conf_int"
   ]
  },
  {
   "cell_type": "markdown",
   "metadata": {},
   "source": [
    "## Basic Regression\n",
    "Regression is a very useful tool for prediction. Linear regressions allow us to easily model a linear relationship between a response/dependent/Y variable and 1 or more predictor/independent/X variables. We define the regression of $Y$ on $X$ as the *best linear predictor* of $Y$ given $X$. \n",
    "\n",
    "Formally, we define regression as the minimum mean squared error for the expression $E[Y_i - \\alpha - \\beta X_i]^2$. We can define $\\beta$ as $\\text{cov}(X_i,Y_i)/\\text{var}(X_i)$, and $\\alpha$ as $E[Y_i] - E[X_i]\\beta$. To prove this, just take a derivative of our MSE equation and solve for the unknowns! Regression has some very nice mathematical properties that we won't go into here. If you plan to use regression in your project, please come talk to us for a more in depth treatment of the subject!"
   ]
  },
  {
   "cell_type": "markdown",
   "metadata": {},
   "source": [
    "Regressions in Python are fairly easy to do: we just need a Y list, and at least one X list of equal length! Note that we'll need to reshape the data a bit first."
   ]
  },
  {
   "cell_type": "code",
   "execution_count": 22,
   "metadata": {},
   "outputs": [
    {
     "data": {
      "image/png": "[encoded data removed]",
      "text/plain": [
       "<Figure size 432x288 with 1 Axes>"
      ]
     },
     "metadata": {
      "needs_background": "light"
     },
     "output_type": "display_data"
    },
    {
     "name": "stdout",
     "output_type": "stream",
     "text": [
      "80.00570187347272 [-4.48493076]\n",
      "[-0.41418385]\n",
      "(-0.414183846812948, 0.18070743478976728)\n"
     ]
    }
   ],
   "source": [
    "from sklearn import linear_model\n",
    "import statsmodels.api as sm\n",
    "from scipy.stats.stats import pearsonr\n",
    "\n",
    "lm = linear_model.LinearRegression()\n",
    "rankings = pd.read_csv(\"house_rankings_2018.csv\")\n",
    "houses = rankings.House\n",
    "rankings.set_index(\"House\", inplace = True)\n",
    "\n",
    "#walking time from Widener Library (in minutes), from Google Maps\n",
    "dist = [2, 15, 7, 8, 3, 5, 7, 16, 7, 2, 17, 6]\n",
    "\n",
    "# Reshape distances as a column vector\n",
    "dist_reshaped = np.array(dist).reshape(-1,1)\n",
    "first_place = [rankings.values[i,0] for i in range(0, 12)]\n",
    "\n",
    "#X, Y is the order\n",
    "reg = lm.fit(dist_reshaped, first_place)\n",
    "beta0, beta1 = reg.intercept_, reg.coef_\n",
    "y_predict = np.multiply(dist_reshaped,beta1) + beta0\n",
    "\n",
    "fig, ax = plt.subplots(1, 1, sharey=True, tight_layout=True)\n",
    "ax.scatter(dist_reshaped, first_place)\n",
    "plt.plot(dist_reshaped, y_predict, '-o',color='r')\n",
    "ax.set_title(\"Predicting First place from Distance from Widener\", fontsize=14)\n",
    "plt.show()\n",
    "print(beta0, beta1)\n",
    "\n",
    "# Demystifying Beta1\n",
    "covariance = beta1 * np.var(dist) \n",
    "cor = covariance / (np.std(dist) * np.std(first_place))\n",
    "print(cor)\n",
    "print(pearsonr(first_place, dist))"
   ]
  },
  {
   "cell_type": "markdown",
   "metadata": {},
   "source": [
    "You can also do this a slightly different way using an OLS object to get more information. You just have to further reformat your data. "
   ]
  },
  {
   "cell_type": "code",
   "execution_count": 23,
   "metadata": {},
   "outputs": [
    {
     "name": "stderr",
     "output_type": "stream",
     "text": [
      "/usr/local/lib/python3.7/site-packages/scipy/stats/stats.py:1535: UserWarning: kurtosistest only valid for n>=20 ... continuing anyway, n=12\n",
      "  \"anyway, n=%i\" % int(n))\n"
     ]
    },
    {
     "data": {
      "text/html": [
       "<table class=\"simpletable\">\n",
       "<caption>OLS Regression Results</caption>\n",
       "<tr>\n",
       "  <th>Dep. Variable:</th>            <td>y</td>        <th>  R-squared:         </th> <td>   0.172</td>\n",
       "</tr>\n",
       "<tr>\n",
       "  <th>Model:</th>                   <td>OLS</td>       <th>  Adj. R-squared:    </th> <td>   0.089</td>\n",
       "</tr>\n",
       "<tr>\n",
       "  <th>Method:</th>             <td>Least Squares</td>  <th>  F-statistic:       </th> <td>   2.071</td>\n",
       "</tr>\n",
       "<tr>\n",
       "  <th>Date:</th>             <td>Tue, 03 Mar 2020</td> <th>  Prob (F-statistic):</th>  <td> 0.181</td> \n",
       "</tr>\n",
       "<tr>\n",
       "  <th>Time:</th>                 <td>16:33:41</td>     <th>  Log-Likelihood:    </th> <td> -63.934</td>\n",
       "</tr>\n",
       "<tr>\n",
       "  <th>No. Observations:</th>      <td>    12</td>      <th>  AIC:               </th> <td>   131.9</td>\n",
       "</tr>\n",
       "<tr>\n",
       "  <th>Df Residuals:</th>          <td>    10</td>      <th>  BIC:               </th> <td>   132.8</td>\n",
       "</tr>\n",
       "<tr>\n",
       "  <th>Df Model:</th>              <td>     1</td>      <th>                     </th>     <td> </td>   \n",
       "</tr>\n",
       "<tr>\n",
       "  <th>Covariance Type:</th>      <td>nonrobust</td>    <th>                     </th>     <td> </td>   \n",
       "</tr>\n",
       "</table>\n",
       "<table class=\"simpletable\">\n",
       "<tr>\n",
       "    <td></td>       <th>coef</th>     <th>std err</th>      <th>t</th>      <th>P>|t|</th>  <th>[0.025</th>    <th>0.975]</th>  \n",
       "</tr>\n",
       "<tr>\n",
       "  <th>const</th> <td>   80.0057</td> <td>   29.279</td> <td>    2.733</td> <td> 0.021</td> <td>   14.768</td> <td>  145.243</td>\n",
       "</tr>\n",
       "<tr>\n",
       "  <th>x1</th>    <td>   -4.4849</td> <td>    3.117</td> <td>   -1.439</td> <td> 0.181</td> <td>  -11.429</td> <td>    2.460</td>\n",
       "</tr>\n",
       "</table>\n",
       "<table class=\"simpletable\">\n",
       "<tr>\n",
       "  <th>Omnibus:</th>       <td> 8.123</td> <th>  Durbin-Watson:     </th> <td>   1.092</td>\n",
       "</tr>\n",
       "<tr>\n",
       "  <th>Prob(Omnibus):</th> <td> 0.017</td> <th>  Jarque-Bera (JB):  </th> <td>   4.173</td>\n",
       "</tr>\n",
       "<tr>\n",
       "  <th>Skew:</th>          <td> 1.378</td> <th>  Prob(JB):          </th> <td>   0.124</td>\n",
       "</tr>\n",
       "<tr>\n",
       "  <th>Kurtosis:</th>      <td> 3.864</td> <th>  Cond. No.          </th> <td>    17.6</td>\n",
       "</tr>\n",
       "</table><br/><br/>Warnings:<br/>[1] Standard Errors assume that the covariance matrix of the errors is correctly specified."
      ],
      "text/plain": [
       "<class 'statsmodels.iolib.summary.Summary'>\n",
       "\"\"\"\n",
       "                            OLS Regression Results                            \n",
       "==============================================================================\n",
       "Dep. Variable:                      y   R-squared:                       0.172\n",
       "Model:                            OLS   Adj. R-squared:                  0.089\n",
       "Method:                 Least Squares   F-statistic:                     2.071\n",
       "Date:                Tue, 03 Mar 2020   Prob (F-statistic):              0.181\n",
       "Time:                        16:33:41   Log-Likelihood:                -63.934\n",
       "No. Observations:                  12   AIC:                             131.9\n",
       "Df Residuals:                      10   BIC:                             132.8\n",
       "Df Model:                           1                                         \n",
       "Covariance Type:            nonrobust                                         \n",
       "==============================================================================\n",
       "                 coef    std err          t      P>|t|      [0.025      0.975]\n",
       "------------------------------------------------------------------------------\n",
       "const         80.0057     29.279      2.733      0.021      14.768     145.243\n",
       "x1            -4.4849      3.117     -1.439      0.181     -11.429       2.460\n",
       "==============================================================================\n",
       "Omnibus:                        8.123   Durbin-Watson:                   1.092\n",
       "Prob(Omnibus):                  0.017   Jarque-Bera (JB):                4.173\n",
       "Skew:                           1.378   Prob(JB):                        0.124\n",
       "Kurtosis:                       3.864   Cond. No.                         17.6\n",
       "==============================================================================\n",
       "\n",
       "Warnings:\n",
       "[1] Standard Errors assume that the covariance matrix of the errors is correctly specified.\n",
       "\"\"\""
      ]
     },
     "execution_count": 23,
     "metadata": {},
     "output_type": "execute_result"
    }
   ],
   "source": [
    "dist_reshaped_ols = sm.add_constant(dist_reshaped)\n",
    "mod = sm.OLS(first_place,dist_reshaped_ols)\n",
    "results = mod.fit()\n",
    "results.summary()"
   ]
  },
  {
   "cell_type": "markdown",
   "metadata": {},
   "source": [
    "## Interpreting your Coefficients\n",
    "In simple regression, we can interpret the coefficients easily. In this case, the coefficient 1.468 is the change in Leverett ratings for a one unit change in Boston temperature. \n",
    "\n",
    "The coefficient -42.97 is the predicted number of Leverett ratings if the monthly high temperature in Boston was 0. "
   ]
  },
  {
   "cell_type": "markdown",
   "metadata": {},
   "source": [
    "### Aside: Demystifying Beta_1 \n",
    "Somewhat unsurprisingly, there is a relationship between beta_1 and your correlation. It turns out, if your X's and Y's are standardized, then your correlation coefficient is equal to your beta_1 coefficient. You can actually get from beta1 to the correlation coefficient really easily by doing some simple algebra. \n"
   ]
  },
  {
   "cell_type": "code",
   "execution_count": 24,
   "metadata": {},
   "outputs": [
    {
     "name": "stdout",
     "output_type": "stream",
     "text": [
      "[-0.41418385]\n",
      "-0.414183846812948\n"
     ]
    }
   ],
   "source": [
    "# Demystifying Beta1\n",
    "covariance = beta1 * np.var(dist) \n",
    "cor = covariance / (np.std(dist) * np.std(first_place))\n",
    "print(cor)\n",
    "print(pearsonr(first_place, dist)[0])"
   ]
  },
  {
   "cell_type": "markdown",
   "metadata": {},
   "source": [
    "## Assumptions\n",
    "* Linearity\n",
    "* Equal Spread \n",
    "* Normality of Errors\n",
    "* Independence of assumptions\n",
    "\n",
    "We can check the first three of these with a plot of our linear model and a plot of the residuals versus the predicted value. These plots are given below. We can see from the plots that there's a problem. Well two, actually. There are clearly two outliers throwing everything off!\n",
    "\n",
    "Into the weeds about the plots: From the first plot, we see that there appear to be two outliers - influential points - that are skewing our model. The residual histogram seems to make our normality of errors assumption questionable, but that's mostly caused by the outliers as well. Our residuals vs. predicted plot looks terrible as well because of these two outliers. Although there's no obvious pattern in our residuals, they don't appear to have equal spread. \n",
    "\n",
    "Take a Stats course for more clarity on the assumptions. If you don't get all of this, that's okay. You'll never put this in your article, but I would feel like I'm committing statistical malpractice if I didn't at least make you aware of the assumptions regarding regression. "
   ]
  },
  {
   "cell_type": "code",
   "execution_count": 25,
   "metadata": {},
   "outputs": [
    {
     "name": "stderr",
     "output_type": "stream",
     "text": [
      "/usr/local/lib/python3.7/site-packages/sklearn/utils/deprecation.py:144: FutureWarning: The sklearn.metrics.classification module is  deprecated in version 0.22 and will be removed in version 0.24. The corresponding classes / functions should instead be imported from sklearn.metrics. Anything that cannot be imported from sklearn.metrics is now part of the private API.\n",
      "  warnings.warn(message, FutureWarning)\n"
     ]
    },
    {
     "data": {
      "image/png": "[encoded data removed]",
      "text/plain": [
       "<Figure size 576x396 with 2 Axes>"
      ]
     },
     "metadata": {},
     "output_type": "display_data"
    },
    {
     "data": {
      "image/png": "[encoded data removed]",
      "text/plain": [
       "<Figure size 576x396 with 2 Axes>"
      ]
     },
     "metadata": {},
     "output_type": "display_data"
    },
    {
     "data": {
      "text/plain": [
       "<matplotlib.axes._subplots.AxesSubplot at 0x12a65c350>"
      ]
     },
     "execution_count": 25,
     "metadata": {},
     "output_type": "execute_result"
    }
   ],
   "source": [
    "from yellowbrick.regressor import ResidualsPlot\n",
    "fig, ax = plt.subplots(1, 2, tight_layout=True)\n",
    "ax[0].scatter(dist_reshaped, first_place)\n",
    "ax[0].plot(dist_reshaped, y_predict, '-o',color='r')\n",
    "ax[0].set_title(\"Predicting First Place Votes from Distance\", fontsize=14)\n",
    "ax[1].hist(results.resid)\n",
    "ax[1].set_title(\"Residual Histogram\", fontsize=14)\n",
    "plt.show()\n",
    "\n",
    "visualizer = ResidualsPlot(reg)\n",
    "visualizer.fit(dist_reshaped, first_place)\n",
    "visualizer.show()"
   ]
  },
  {
   "cell_type": "markdown",
   "metadata": {},
   "source": [
    "Now, let's investigate those outliers"
   ]
  },
  {
   "cell_type": "code",
   "execution_count": 26,
   "metadata": {},
   "outputs": [
    {
     "data": {
      "text/html": [
       "<div>\n",
       "<style scoped>\n",
       "    .dataframe tbody tr th:only-of-type {\n",
       "        vertical-align: middle;\n",
       "    }\n",
       "\n",
       "    .dataframe tbody tr th {\n",
       "        vertical-align: top;\n",
       "    }\n",
       "\n",
       "    .dataframe thead th {\n",
       "        text-align: right;\n",
       "    }\n",
       "</style>\n",
       "<table border=\"1\" class=\"dataframe\">\n",
       "  <thead>\n",
       "    <tr style=\"text-align: right;\">\n",
       "      <th></th>\n",
       "      <th>1</th>\n",
       "      <th>2</th>\n",
       "      <th>3</th>\n",
       "      <th>4</th>\n",
       "      <th>5</th>\n",
       "      <th>6</th>\n",
       "      <th>7</th>\n",
       "      <th>8</th>\n",
       "      <th>9</th>\n",
       "      <th>10</th>\n",
       "      <th>11</th>\n",
       "      <th>12</th>\n",
       "      <th>dist</th>\n",
       "    </tr>\n",
       "    <tr>\n",
       "      <th>House</th>\n",
       "      <th></th>\n",
       "      <th></th>\n",
       "      <th></th>\n",
       "      <th></th>\n",
       "      <th></th>\n",
       "      <th></th>\n",
       "      <th></th>\n",
       "      <th></th>\n",
       "      <th></th>\n",
       "      <th></th>\n",
       "      <th></th>\n",
       "      <th></th>\n",
       "      <th></th>\n",
       "    </tr>\n",
       "  </thead>\n",
       "  <tbody>\n",
       "    <tr>\n",
       "      <th>Adams</th>\n",
       "      <td>20</td>\n",
       "      <td>15</td>\n",
       "      <td>24</td>\n",
       "      <td>38</td>\n",
       "      <td>37</td>\n",
       "      <td>44</td>\n",
       "      <td>67</td>\n",
       "      <td>75</td>\n",
       "      <td>74</td>\n",
       "      <td>28</td>\n",
       "      <td>32</td>\n",
       "      <td>80</td>\n",
       "      <td>2</td>\n",
       "    </tr>\n",
       "    <tr>\n",
       "      <th>Cabot</th>\n",
       "      <td>5</td>\n",
       "      <td>13</td>\n",
       "      <td>16</td>\n",
       "      <td>17</td>\n",
       "      <td>7</td>\n",
       "      <td>20</td>\n",
       "      <td>16</td>\n",
       "      <td>31</td>\n",
       "      <td>49</td>\n",
       "      <td>118</td>\n",
       "      <td>148</td>\n",
       "      <td>94</td>\n",
       "      <td>15</td>\n",
       "    </tr>\n",
       "    <tr>\n",
       "      <th>Kirkland</th>\n",
       "      <td>19</td>\n",
       "      <td>19</td>\n",
       "      <td>35</td>\n",
       "      <td>50</td>\n",
       "      <td>71</td>\n",
       "      <td>63</td>\n",
       "      <td>72</td>\n",
       "      <td>70</td>\n",
       "      <td>56</td>\n",
       "      <td>24</td>\n",
       "      <td>24</td>\n",
       "      <td>31</td>\n",
       "      <td>7</td>\n",
       "    </tr>\n",
       "    <tr>\n",
       "      <th>Mather</th>\n",
       "      <td>17</td>\n",
       "      <td>15</td>\n",
       "      <td>19</td>\n",
       "      <td>25</td>\n",
       "      <td>27</td>\n",
       "      <td>40</td>\n",
       "      <td>44</td>\n",
       "      <td>67</td>\n",
       "      <td>112</td>\n",
       "      <td>37</td>\n",
       "      <td>55</td>\n",
       "      <td>76</td>\n",
       "      <td>8</td>\n",
       "    </tr>\n",
       "    <tr>\n",
       "      <th>Quincy</th>\n",
       "      <td>28</td>\n",
       "      <td>43</td>\n",
       "      <td>55</td>\n",
       "      <td>90</td>\n",
       "      <td>71</td>\n",
       "      <td>82</td>\n",
       "      <td>65</td>\n",
       "      <td>44</td>\n",
       "      <td>21</td>\n",
       "      <td>17</td>\n",
       "      <td>14</td>\n",
       "      <td>4</td>\n",
       "      <td>3</td>\n",
       "    </tr>\n",
       "    <tr>\n",
       "      <th>Leverett</th>\n",
       "      <td>11</td>\n",
       "      <td>22</td>\n",
       "      <td>40</td>\n",
       "      <td>73</td>\n",
       "      <td>76</td>\n",
       "      <td>81</td>\n",
       "      <td>94</td>\n",
       "      <td>66</td>\n",
       "      <td>36</td>\n",
       "      <td>18</td>\n",
       "      <td>11</td>\n",
       "      <td>6</td>\n",
       "      <td>5</td>\n",
       "    </tr>\n",
       "    <tr>\n",
       "      <th>Dunster</th>\n",
       "      <td>45</td>\n",
       "      <td>67</td>\n",
       "      <td>113</td>\n",
       "      <td>56</td>\n",
       "      <td>70</td>\n",
       "      <td>42</td>\n",
       "      <td>44</td>\n",
       "      <td>52</td>\n",
       "      <td>19</td>\n",
       "      <td>10</td>\n",
       "      <td>11</td>\n",
       "      <td>5</td>\n",
       "      <td>7</td>\n",
       "    </tr>\n",
       "    <tr>\n",
       "      <th>Currier</th>\n",
       "      <td>14</td>\n",
       "      <td>10</td>\n",
       "      <td>16</td>\n",
       "      <td>15</td>\n",
       "      <td>18</td>\n",
       "      <td>19</td>\n",
       "      <td>20</td>\n",
       "      <td>23</td>\n",
       "      <td>43</td>\n",
       "      <td>92</td>\n",
       "      <td>114</td>\n",
       "      <td>150</td>\n",
       "      <td>16</td>\n",
       "    </tr>\n",
       "    <tr>\n",
       "      <th>Eliot</th>\n",
       "      <td>37</td>\n",
       "      <td>57</td>\n",
       "      <td>60</td>\n",
       "      <td>67</td>\n",
       "      <td>57</td>\n",
       "      <td>76</td>\n",
       "      <td>49</td>\n",
       "      <td>40</td>\n",
       "      <td>38</td>\n",
       "      <td>23</td>\n",
       "      <td>16</td>\n",
       "      <td>14</td>\n",
       "      <td>7</td>\n",
       "    </tr>\n",
       "    <tr>\n",
       "      <th>Lowell</th>\n",
       "      <td>152</td>\n",
       "      <td>106</td>\n",
       "      <td>63</td>\n",
       "      <td>51</td>\n",
       "      <td>45</td>\n",
       "      <td>35</td>\n",
       "      <td>22</td>\n",
       "      <td>24</td>\n",
       "      <td>14</td>\n",
       "      <td>5</td>\n",
       "      <td>7</td>\n",
       "      <td>10</td>\n",
       "      <td>2</td>\n",
       "    </tr>\n",
       "    <tr>\n",
       "      <th>Pforzheimer</th>\n",
       "      <td>10</td>\n",
       "      <td>21</td>\n",
       "      <td>15</td>\n",
       "      <td>6</td>\n",
       "      <td>16</td>\n",
       "      <td>19</td>\n",
       "      <td>29</td>\n",
       "      <td>33</td>\n",
       "      <td>66</td>\n",
       "      <td>158</td>\n",
       "      <td>98</td>\n",
       "      <td>63</td>\n",
       "      <td>17</td>\n",
       "    </tr>\n",
       "    <tr>\n",
       "      <th>Winthrop</th>\n",
       "      <td>176</td>\n",
       "      <td>146</td>\n",
       "      <td>78</td>\n",
       "      <td>46</td>\n",
       "      <td>39</td>\n",
       "      <td>13</td>\n",
       "      <td>12</td>\n",
       "      <td>9</td>\n",
       "      <td>6</td>\n",
       "      <td>4</td>\n",
       "      <td>4</td>\n",
       "      <td>1</td>\n",
       "      <td>6</td>\n",
       "    </tr>\n",
       "  </tbody>\n",
       "</table>\n",
       "</div>"
      ],
      "text/plain": [
       "               1    2    3   4   5   6   7   8    9   10   11   12  dist\n",
       "House                                                                   \n",
       "Adams         20   15   24  38  37  44  67  75   74   28   32   80     2\n",
       "Cabot          5   13   16  17   7  20  16  31   49  118  148   94    15\n",
       "Kirkland      19   19   35  50  71  63  72  70   56   24   24   31     7\n",
       "Mather        17   15   19  25  27  40  44  67  112   37   55   76     8\n",
       "Quincy        28   43   55  90  71  82  65  44   21   17   14    4     3\n",
       "Leverett      11   22   40  73  76  81  94  66   36   18   11    6     5\n",
       "Dunster       45   67  113  56  70  42  44  52   19   10   11    5     7\n",
       "Currier       14   10   16  15  18  19  20  23   43   92  114  150    16\n",
       "Eliot         37   57   60  67  57  76  49  40   38   23   16   14     7\n",
       "Lowell       152  106   63  51  45  35  22  24   14    5    7   10     2\n",
       "Pforzheimer   10   21   15   6  16  19  29  33   66  158   98   63    17\n",
       "Winthrop     176  146   78  46  39  13  12   9    6    4    4    1     6"
      ]
     },
     "execution_count": 26,
     "metadata": {},
     "output_type": "execute_result"
    }
   ],
   "source": [
    "rankings['dist'] = dist \n",
    "rankings"
   ]
  },
  {
   "cell_type": "markdown",
   "metadata": {},
   "source": [
    "The outliers are Lowell and Winthrop! I suspect that the recent renovations are causing these two houses to have lots of first place votes despite their distances from Widener. If only there was some way to control for renovations..."
   ]
  },
  {
   "cell_type": "markdown",
   "metadata": {},
   "source": [
    "## Multiple Regression (and matching)\n",
    "\n",
    "We can also run a regression model with more than one predictor variables. All you have to do is add the predictors to your design matrix X and use the lm.fit() command. This allows us to control for confounding variables.\n",
    "\n",
    "Here, I've fitted a model to predict number of first-choice votes each house received, with two predictor variables. I've given you two possible variables below, though you're welcome to find more, or different ones. Again, note that you may need to reshape data.\n",
    "\n",
    "*Hint: You still need to find the dependent variable, and structure it like the `levCounts` variable above.*"
   ]
  },
  {
   "cell_type": "code",
   "execution_count": 27,
   "metadata": {},
   "outputs": [
    {
     "data": {
      "text/plain": [
       "[array([31.89518947]), array([[-1.40647675, 56.9746036 ]])]"
      ]
     },
     "execution_count": 27,
     "metadata": {},
     "output_type": "execute_result"
    }
   ],
   "source": [
    "#walking time from Widener Library (in minutes), from Google Maps\n",
    "dist = [2, 15, 7, 8, 3, 5, 7, 16, 7, 2, 17, 6]\n",
    "#was the house renovated in last 10 years? 1 if true\n",
    "renovated = [0, 0, 0, 0, 1, 1, 1, 0, 0, 1, 0, 1]\n",
    "\n",
    "X = np.matrix([dist, renovated]).transpose()\n",
    "Y = [rankings.values[i,0] for i in range(0, 12)]\n",
    "Y = np.array([Y]).reshape(-1, 1)\n",
    "\n",
    "reg = lm.fit(X, Y)\n",
    "[reg.intercept_, reg.coef_]"
   ]
  },
  {
   "cell_type": "markdown",
   "metadata": {},
   "source": [
    "Again, you can do this using an OLS Object as well with properly formatted data. "
   ]
  },
  {
   "cell_type": "code",
   "execution_count": 28,
   "metadata": {},
   "outputs": [
    {
     "name": "stderr",
     "output_type": "stream",
     "text": [
      "/usr/local/lib/python3.7/site-packages/scipy/stats/stats.py:1535: UserWarning: kurtosistest only valid for n>=20 ... continuing anyway, n=12\n",
      "  \"anyway, n=%i\" % int(n))\n"
     ]
    },
    {
     "data": {
      "text/html": [
       "<table class=\"simpletable\">\n",
       "<caption>OLS Regression Results</caption>\n",
       "<tr>\n",
       "  <th>Dep. Variable:</th>            <td>y</td>        <th>  R-squared:         </th> <td>   0.354</td>\n",
       "</tr>\n",
       "<tr>\n",
       "  <th>Model:</th>                   <td>OLS</td>       <th>  Adj. R-squared:    </th> <td>   0.210</td>\n",
       "</tr>\n",
       "<tr>\n",
       "  <th>Method:</th>             <td>Least Squares</td>  <th>  F-statistic:       </th> <td>   2.464</td>\n",
       "</tr>\n",
       "<tr>\n",
       "  <th>Date:</th>             <td>Tue, 03 Mar 2020</td> <th>  Prob (F-statistic):</th>  <td> 0.140</td> \n",
       "</tr>\n",
       "<tr>\n",
       "  <th>Time:</th>                 <td>16:33:52</td>     <th>  Log-Likelihood:    </th> <td> -62.443</td>\n",
       "</tr>\n",
       "<tr>\n",
       "  <th>No. Observations:</th>      <td>    12</td>      <th>  AIC:               </th> <td>   130.9</td>\n",
       "</tr>\n",
       "<tr>\n",
       "  <th>Df Residuals:</th>          <td>     9</td>      <th>  BIC:               </th> <td>   132.3</td>\n",
       "</tr>\n",
       "<tr>\n",
       "  <th>Df Model:</th>              <td>     2</td>      <th>                     </th>     <td> </td>   \n",
       "</tr>\n",
       "<tr>\n",
       "  <th>Covariance Type:</th>      <td>nonrobust</td>    <th>                     </th>     <td> </td>   \n",
       "</tr>\n",
       "</table>\n",
       "<table class=\"simpletable\">\n",
       "<tr>\n",
       "    <td></td>       <th>coef</th>     <th>std err</th>      <th>t</th>      <th>P>|t|</th>  <th>[0.025</th>    <th>0.975]</th>  \n",
       "</tr>\n",
       "<tr>\n",
       "  <th>const</th> <td>   31.8952</td> <td>   40.678</td> <td>    0.784</td> <td> 0.453</td> <td>  -60.125</td> <td>  123.916</td>\n",
       "</tr>\n",
       "<tr>\n",
       "  <th>x1</th>    <td>   -1.4065</td> <td>    3.486</td> <td>   -0.403</td> <td> 0.696</td> <td>   -9.292</td> <td>    6.479</td>\n",
       "</tr>\n",
       "<tr>\n",
       "  <th>x2</th>    <td>   56.9746</td> <td>   35.759</td> <td>    1.593</td> <td> 0.146</td> <td>  -23.918</td> <td>  137.867</td>\n",
       "</tr>\n",
       "</table>\n",
       "<table class=\"simpletable\">\n",
       "<tr>\n",
       "  <th>Omnibus:</th>       <td> 1.891</td> <th>  Durbin-Watson:     </th> <td>   0.921</td>\n",
       "</tr>\n",
       "<tr>\n",
       "  <th>Prob(Omnibus):</th> <td> 0.388</td> <th>  Jarque-Bera (JB):  </th> <td>   0.658</td>\n",
       "</tr>\n",
       "<tr>\n",
       "  <th>Skew:</th>          <td> 0.572</td> <th>  Prob(JB):          </th> <td>   0.720</td>\n",
       "</tr>\n",
       "<tr>\n",
       "  <th>Kurtosis:</th>      <td> 3.089</td> <th>  Cond. No.          </th> <td>    32.6</td>\n",
       "</tr>\n",
       "</table><br/><br/>Warnings:<br/>[1] Standard Errors assume that the covariance matrix of the errors is correctly specified."
      ],
      "text/plain": [
       "<class 'statsmodels.iolib.summary.Summary'>\n",
       "\"\"\"\n",
       "                            OLS Regression Results                            \n",
       "==============================================================================\n",
       "Dep. Variable:                      y   R-squared:                       0.354\n",
       "Model:                            OLS   Adj. R-squared:                  0.210\n",
       "Method:                 Least Squares   F-statistic:                     2.464\n",
       "Date:                Tue, 03 Mar 2020   Prob (F-statistic):              0.140\n",
       "Time:                        16:33:52   Log-Likelihood:                -62.443\n",
       "No. Observations:                  12   AIC:                             130.9\n",
       "Df Residuals:                       9   BIC:                             132.3\n",
       "Df Model:                           2                                         \n",
       "Covariance Type:            nonrobust                                         \n",
       "==============================================================================\n",
       "                 coef    std err          t      P>|t|      [0.025      0.975]\n",
       "------------------------------------------------------------------------------\n",
       "const         31.8952     40.678      0.784      0.453     -60.125     123.916\n",
       "x1            -1.4065      3.486     -0.403      0.696      -9.292       6.479\n",
       "x2            56.9746     35.759      1.593      0.146     -23.918     137.867\n",
       "==============================================================================\n",
       "Omnibus:                        1.891   Durbin-Watson:                   0.921\n",
       "Prob(Omnibus):                  0.388   Jarque-Bera (JB):                0.658\n",
       "Skew:                           0.572   Prob(JB):                        0.720\n",
       "Kurtosis:                       3.089   Cond. No.                         32.6\n",
       "==============================================================================\n",
       "\n",
       "Warnings:\n",
       "[1] Standard Errors assume that the covariance matrix of the errors is correctly specified.\n",
       "\"\"\""
      ]
     },
     "execution_count": 28,
     "metadata": {},
     "output_type": "execute_result"
    }
   ],
   "source": [
    "X_ols = sm.add_constant(X)\n",
    "mod = sm.OLS(Y,X_ols)\n",
    "results = mod.fit()\n",
    "results.summary()"
   ]
  },
  {
   "cell_type": "markdown",
   "metadata": {},
   "source": [
    "Now let's plot our prediction lines again."
   ]
  },
  {
   "cell_type": "code",
   "execution_count": 29,
   "metadata": {},
   "outputs": [
    {
     "name": "stdout",
     "output_type": "stream",
     "text": [
      "[31.89518947 -1.40647675 56.9746036 ]\n"
     ]
    },
    {
     "data": {
      "image/png": "[encoded data removed]",
      "text/plain": [
       "<Figure size 576x396 with 1 Axes>"
      ]
     },
     "metadata": {},
     "output_type": "display_data"
    }
   ],
   "source": [
    "#X, Y is the order\n",
    "coef = results.params\n",
    "print(coef)\n",
    "y_predict = np.multiply(dist_reshaped,beta1) + beta0\n",
    "\n",
    "x = np.linspace(1,17,100)\n",
    "y_0 = coef[1]*dist_reshaped+coef[0]\n",
    "y_1 = (coef[1])*dist_reshaped + coef[0] + coef[2]\n",
    "\n",
    "fig, ax = plt.subplots(1, 1, tight_layout=True)\n",
    "ax.scatter(dist_reshaped, first_place)\n",
    "ax.plot(dist_reshaped, y_0, '-',color='r')\n",
    "ax.plot(dist_reshaped, y_1, '-',color='g')\n",
    "ax.set_title(\"Predicting First Place Votes from Distance\", fontsize=14)\n",
    "plt.show()"
   ]
  },
  {
   "cell_type": "markdown",
   "metadata": {},
   "source": [
    "Obviously, this helped a lot. "
   ]
  },
  {
   "cell_type": "markdown",
   "metadata": {},
   "source": [
    "## Interpreting your Coefficients\n",
    "In multiple regression, we control for certain variables by introducing them as predictors. In this case, the coefficient -1.4065 is the change in first-place votes for a one unit change in distance from Widener library controlling for whether or not a house has been renovated. \n",
    "\n",
    "The coefficient 56.9746 is the change in first-place votes for a one unit change in the renovations indicator variable holding distance from Widener library constant. In other words, if a house is renovated, we can expect a 56.9746 increase in first-place votes, controlling for distance to Widener. \n",
    "\n",
    "Sometimes, we have coefficients whose interpretations don't really make that much sense or that aren't really useful. For example, the coefficient 31.8952 is the expected number of first place votes that a non-renovated house 0 minutes from Widener would receive. While this isn't hard to interpret, it's not that useful unless Harvard was thinking about bulldozing Widener to build a new house. "
   ]
  },
  {
   "cell_type": "markdown",
   "metadata": {},
   "source": [
    "### Prediction\n",
    "Finally, one of the most useful things we can do with a predictive model is make predictions! Assuming you called your model `reg`, use the command below to predict the number of first choice votes for Adams House after the renovations."
   ]
  },
  {
   "cell_type": "code",
   "execution_count": 30,
   "metadata": {},
   "outputs": [
    {
     "data": {
      "text/plain": [
       "array([[86.05683956]])"
      ]
     },
     "execution_count": 30,
     "metadata": {},
     "output_type": "execute_result"
    }
   ],
   "source": [
    "reg.predict(np.array([[2, 1]]))"
   ]
  },
  {
   "cell_type": "markdown",
   "metadata": {},
   "source": [
    "## Your Turn\n",
    "Let's return back to our healthcare example. With our knowledge of potential outcomes, we should be ready to take on some more sophisticated analyses! First, just regress health insurance (hi) on health (hlth). Then, add age, years of education, and income to our comparison of health between the insured and uninsured.\n",
    "\n",
    "Recall that in the NHIS dataset, health insurance is 1 if you have it and 0 if you do not, years of education is yedu, and employment and income are empl and inc.\n",
    "\n",
    "How do our estimates change?\n",
    "\n",
    "If you finish, trying adding the same to our RAND comparison. Does it change our estimates there?"
   ]
  },
  {
   "cell_type": "code",
   "execution_count": 87,
   "metadata": {},
   "outputs": [],
   "source": [
    "# Run this to clean up the dataset a bit more\n",
    "nhis = nhis[nhis['age'].apply(lambda x: str(x).isdigit())]\n",
    "nhis['age'] = pd.to_numeric(nhis['age'], errors='coerce')\n",
    "nhis = nhis.dropna(subset=['hi', 'age', 'inc', 'yedu', 'empl', 'hlth'])"
   ]
  },
  {
   "cell_type": "code",
   "execution_count": 94,
   "metadata": {},
   "outputs": [
    {
     "data": {
      "text/html": [
       "<table class=\"simpletable\">\n",
       "<caption>OLS Regression Results</caption>\n",
       "<tr>\n",
       "  <th>Dep. Variable:</th>            <td>y</td>        <th>  R-squared (uncentered):</th>       <td>   0.857</td>  \n",
       "</tr>\n",
       "<tr>\n",
       "  <th>Model:</th>                   <td>OLS</td>       <th>  Adj. R-squared (uncentered):</th>  <td>   0.857</td>  \n",
       "</tr>\n",
       "<tr>\n",
       "  <th>Method:</th>             <td>Least Squares</td>  <th>  F-statistic:       </th>           <td>8.802e+04</td> \n",
       "</tr>\n",
       "<tr>\n",
       "  <th>Date:</th>             <td>Tue, 03 Mar 2020</td> <th>  Prob (F-statistic):</th>            <td>  0.00</td>   \n",
       "</tr>\n",
       "<tr>\n",
       "  <th>Time:</th>                 <td>18:03:53</td>     <th>  Log-Likelihood:    </th>          <td>-1.3505e+05</td>\n",
       "</tr>\n",
       "<tr>\n",
       "  <th>No. Observations:</th>      <td> 73680</td>      <th>  AIC:               </th>           <td>2.701e+05</td> \n",
       "</tr>\n",
       "<tr>\n",
       "  <th>Df Residuals:</th>          <td> 73675</td>      <th>  BIC:               </th>           <td>2.702e+05</td> \n",
       "</tr>\n",
       "<tr>\n",
       "  <th>Df Model:</th>              <td>     5</td>      <th>                     </th>               <td> </td>     \n",
       "</tr>\n",
       "<tr>\n",
       "  <th>Covariance Type:</th>      <td>nonrobust</td>    <th>                     </th>               <td> </td>     \n",
       "</tr>\n",
       "</table>\n",
       "<table class=\"simpletable\">\n",
       "<tr>\n",
       "   <td></td>     <th>coef</th>     <th>std err</th>      <th>t</th>      <th>P>|t|</th>  <th>[0.025</th>    <th>0.975]</th>  \n",
       "</tr>\n",
       "<tr>\n",
       "  <th>x1</th> <td>    1.7538</td> <td>    0.013</td> <td>  138.362</td> <td> 0.000</td> <td>    1.729</td> <td>    1.779</td>\n",
       "</tr>\n",
       "<tr>\n",
       "  <th>x2</th> <td>   -0.0094</td> <td>    0.000</td> <td>  -29.388</td> <td> 0.000</td> <td>   -0.010</td> <td>   -0.009</td>\n",
       "</tr>\n",
       "<tr>\n",
       "  <th>x3</th> <td> 6.737e-06</td> <td> 1.08e-07</td> <td>   62.434</td> <td> 0.000</td> <td> 6.53e-06</td> <td> 6.95e-06</td>\n",
       "</tr>\n",
       "<tr>\n",
       "  <th>x4</th> <td>    0.1681</td> <td>    0.001</td> <td>  118.619</td> <td> 0.000</td> <td>    0.165</td> <td>    0.171</td>\n",
       "</tr>\n",
       "<tr>\n",
       "  <th>x5</th> <td>    0.1037</td> <td>    0.013</td> <td>    8.119</td> <td> 0.000</td> <td>    0.079</td> <td>    0.129</td>\n",
       "</tr>\n",
       "</table>\n",
       "<table class=\"simpletable\">\n",
       "<tr>\n",
       "  <th>Omnibus:</th>       <td>846.450</td> <th>  Durbin-Watson:     </th> <td>   1.269</td> \n",
       "</tr>\n",
       "<tr>\n",
       "  <th>Prob(Omnibus):</th> <td> 0.000</td>  <th>  Jarque-Bera (JB):  </th> <td> 791.568</td> \n",
       "</tr>\n",
       "<tr>\n",
       "  <th>Skew:</th>          <td> 0.218</td>  <th>  Prob(JB):          </th> <td>1.30e-172</td>\n",
       "</tr>\n",
       "<tr>\n",
       "  <th>Kurtosis:</th>      <td> 2.740</td>  <th>  Cond. No.          </th> <td>2.13e+05</td> \n",
       "</tr>\n",
       "</table><br/><br/>Warnings:<br/>[1] Standard Errors assume that the covariance matrix of the errors is correctly specified.<br/>[2] The condition number is large, 2.13e+05. This might indicate that there are<br/>strong multicollinearity or other numerical problems."
      ],
      "text/plain": [
       "<class 'statsmodels.iolib.summary.Summary'>\n",
       "\"\"\"\n",
       "                                 OLS Regression Results                                \n",
       "=======================================================================================\n",
       "Dep. Variable:                      y   R-squared (uncentered):                   0.857\n",
       "Model:                            OLS   Adj. R-squared (uncentered):              0.857\n",
       "Method:                 Least Squares   F-statistic:                          8.802e+04\n",
       "Date:                Tue, 03 Mar 2020   Prob (F-statistic):                        0.00\n",
       "Time:                        18:03:53   Log-Likelihood:                     -1.3505e+05\n",
       "No. Observations:               73680   AIC:                                  2.701e+05\n",
       "Df Residuals:                   73675   BIC:                                  2.702e+05\n",
       "Df Model:                           5                                                  \n",
       "Covariance Type:            nonrobust                                                  \n",
       "==============================================================================\n",
       "                 coef    std err          t      P>|t|      [0.025      0.975]\n",
       "------------------------------------------------------------------------------\n",
       "x1             1.7538      0.013    138.362      0.000       1.729       1.779\n",
       "x2            -0.0094      0.000    -29.388      0.000      -0.010      -0.009\n",
       "x3          6.737e-06   1.08e-07     62.434      0.000    6.53e-06    6.95e-06\n",
       "x4             0.1681      0.001    118.619      0.000       0.165       0.171\n",
       "x5             0.1037      0.013      8.119      0.000       0.079       0.129\n",
       "==============================================================================\n",
       "Omnibus:                      846.450   Durbin-Watson:                   1.269\n",
       "Prob(Omnibus):                  0.000   Jarque-Bera (JB):              791.568\n",
       "Skew:                           0.218   Prob(JB):                    1.30e-172\n",
       "Kurtosis:                       2.740   Cond. No.                     2.13e+05\n",
       "==============================================================================\n",
       "\n",
       "Warnings:\n",
       "[1] Standard Errors assume that the covariance matrix of the errors is correctly specified.\n",
       "[2] The condition number is large, 2.13e+05. This might indicate that there are\n",
       "strong multicollinearity or other numerical problems.\n",
       "\"\"\""
      ]
     },
     "execution_count": 94,
     "metadata": {},
     "output_type": "execute_result"
    }
   ],
   "source": [
    "import statsmodels.api as sm\n",
    "\n",
    "## TODO ##\n",
    "\n",
    "X = np.matrix([nhis.hi, nhis.age, nhis.inc, nhis.yedu, nhis.empl]).transpose()\n",
    "Y = nhis.hlth\n",
    "Y = np.array([Y]).reshape(-1, 1)\n",
    "X_ = sm.add_constant(X)\n",
    "reg = lm.fit(X, Y)\n",
    "[reg.intercept_, reg.coef_]\n",
    "\n",
    "mod = sm.OLS(Y,X)\n",
    "results = mod.fit()\n",
    "results.summary()"
   ]
  },
  {
   "cell_type": "code",
   "execution_count": null,
   "metadata": {},
   "outputs": [],
   "source": []
  }
 ],
 "metadata": {
  "kernelspec": {
   "display_name": "Python 3",
   "language": "python",
   "name": "python3"
  },
  "language_info": {
   "codemirror_mode": {
    "name": "ipython",
    "version": 3
   },
   "file_extension": ".py",
   "mimetype": "text/x-python",
   "name": "python",
   "nbconvert_exporter": "python",
   "pygments_lexer": "ipython3",
   "version": "3.7.6"
  }
 },
 "nbformat": 4,
 "nbformat_minor": 2
}
