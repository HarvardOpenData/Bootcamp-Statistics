{
 "cells": [
  {
   "cell_type": "markdown",
   "metadata": {},
   "source": [
    "# Statistical Analysis\n",
    "### Fall 2020"
   ]
  },
  {
   "cell_type": "code",
   "execution_count": 2,
   "metadata": {},
   "outputs": [
    {
     "data": {
      "text/plain": [
       "0"
      ]
     },
     "execution_count": 2,
     "metadata": {},
     "output_type": "execute_result"
    }
   ],
   "source": [
    "# Run this cell to make sure you have the requirements \n",
    "# It should return 0. Then, comment it out. \n",
    "\n",
    "import os \n",
    "os.system(\"pip3 install -r requirements.txt\")"
   ]
  },
  {
   "cell_type": "markdown",
   "metadata": {},
   "source": [
    "### Major Topics:\n",
    "* Inference\n",
    "  - Estimation\n",
    "  - Confidence Intervals\n",
    "  - Central Limit Theorem\n",
    "  - Benefits of Large Sample Sizes\n",
    "* Hypothesis Testing\n",
    "* Regression"
   ]
  },
  {
   "cell_type": "markdown",
   "metadata": {},
   "source": [
    "# Inference \n",
    "## Estimation\n",
    "When conducting data analysis, one is often interested in a phenomenon of interest. They might want to know the average amount of water that Harvard students drink each day, the maximal number of trips to Mount Auburn that each Harvard first-year took, or the probability that they have covid given a variety of factors, for example.\n",
    "\n",
    "In each of these cases, there is the true “god-given” value: this is the estimand  𝜃 . Before sampling data, the exact crystallization of the data is a random variable  𝑋 , and all of the  𝑛  data can be represented by  𝑋⃗ ∈𝑛 . One does not know if the first person they survey will have drank 14 or 16 oz of water, or something else entirely. Once the value does crystalize, it is often notationally referred to as  𝑦 . An estimator \\hat{\\theta} is the output of a function  𝑔(𝑋⃗ )  that attempts to estimate the estimand  𝜃 . Because an estimator is a function of unobserved data, it is also a random variable. After observing the data, the estimate is the output of the function  𝑔(𝑦⃗ ) ."
   ]
  },
  {
   "cell_type": "code",
   "execution_count": 6,
   "metadata": {},
   "outputs": [
    {
     "name": "stdout",
     "output_type": "stream",
     "text": [
      "[0 1 1 1 1 1 0 1 1 1 1 1 1 1 0 0 1 1 1 0 1 1 1 0 1 0 1 0 1 1 1 1 1 1 0 0 0\n",
      " 1 1 1 1 1 1 1 1 1 1 1 1 1 1 1 1 0 1 1 1 0 1 1 0 0 1 0 0 0 1 0 1 1 1 1 1 0\n",
      " 0 1 1 1 0 0 1 0 1 1 1 1 1 1 1 1 1 1 1 1 1 1 0 0 1 1]\n",
      "Estimate: 0.74\n",
      "Standard Error 0.044\n"
     ]
    }
   ],
   "source": [
    "import numpy as np\n",
    "from numpy import random\n",
    "import math\n",
    "\n",
    "# Define parameters\n",
    "estimand = p = 0.7 # The true god-given value that generates the data\n",
    "sample_size = ss = 100 # sample size \n",
    "\n",
    "# Generate data\n",
    "x = random.binomial(n=1, p=estimand, size=ss)\n",
    "print(x) \n",
    "\n",
    "# Define estimator\n",
    "estimator = x.sum()/ss # The mean of the data \n",
    "\n",
    "# Infer parameters \n",
    "estimate = p_hat = x.sum()/ss # Data has crystallized, so this is an estimate\n",
    "standard_error = math.sqrt(p_hat*(1-p_hat)/ss) # Variance of binomial mean is p(1-p)/n\n",
    "print(\"Estimate: \" + str(estimate))\n",
    "print(\"Standard Error \" + str(round(standard_error, 3)))"
   ]
  },
  {
   "cell_type": "markdown",
   "metadata": {},
   "source": [
    "If the phenomenon of interest is the daily average water intake of Harvard students, then the “true” value, the estimand $\\theta$, may be some irrational number close to 64.43 oz, which could only be known if an analyst had perfect information and measurements about the exact water intake of every student. An estimator of $\\theta$ may be the mean. In addition to the point estimate, the estimator has an associated standard error $s = \\sqrt{Variance(\\hat{\\theta})}$, where the “e” in error is for “estimator.” In practice, standard error can be estimated with the standard deviation of the sample, which many packages can calculate.  \n",
    "\n",
    "Similarly, an estimator is unbiased if its expectation is the estimand. Formally, we define bias to be $\\textrm{bias}(\\hat{\\theta}) = \\mathbb{E}_{\\theta}(\\hat{\\theta) - \\theta. The mean squared error (MSE) is equivalent to the sum of the squared bias and standard errors, the proof of which is beyond the scope of the docs. When designing experiments, statisticians often have to tradeoff bias and variance to minimize mean squared error. \n"
   ]
  },
  {
   "cell_type": "code",
   "execution_count": 7,
   "metadata": {},
   "outputs": [
    {
     "name": "stdout",
     "output_type": "stream",
     "text": [
      "Bias 1: 0.04\n",
      "MSE 1: 0.004\n"
     ]
    }
   ],
   "source": [
    "# Bias of sample mean\n",
    "bias = estimate - estimand \n",
    "print(\"Bias 1: \" + str(round(bias, 3)))\n",
    "\n",
    "# MSE of sample mean \n",
    "mse = bias**2 + standard_error**2 \n",
    "print(\"MSE 1: \" + str(round(mse, 3)))\n"
   ]
  },
  {
   "cell_type": "markdown",
   "metadata": {},
   "source": [
    "Ideally, this estimate would converge to the estimand for asymptotically large values of $n$. We call this consistency: an estimator $\\hat{\\theta}}$ is consistent if $\\hat{\\theta} \\overset{p}{\\longrightarrow}} {\\theta}.$. An estimator can be consistent but biased (e.g., estimating the mean with $\\sum{n} x_n + \\frac{1}{n}$) and inconsistent but unbiased (e.g., estimating the mean with $g(\\vec{X}) = x_1 \\forall n \\geq 2$). "
   ]
  },
  {
   "cell_type": "code",
   "execution_count": 8,
   "metadata": {},
   "outputs": [
    {
     "name": "stdout",
     "output_type": "stream",
     "text": [
      "Estimate 2: 0\n",
      "Standard Error 2: 0.0\n",
      "Bias 2: -0.7\n",
      "MSE 2: 0.49\n",
      "Estimate 3: 0.75\n",
      "Standard Error 3: 0.043\n",
      "Bias 3: 0.05\n",
      "MSE 3: 0.004\n"
     ]
    }
   ],
   "source": [
    "# Inconsistent but Unbiased\n",
    "\n",
    "# Estimator: The first data point\n",
    "estimator2 = p_hat2 = x[0] \n",
    "standard_error2 = math.sqrt(p_hat2*(1-p_hat2)*sample_size)\n",
    "\n",
    "# Evaluations: \n",
    "# E(x_1) = mean(x) = p, so this estimator is unbiased (good)\n",
    "# But x_1 -/-> p as n --> infinity, so this estimator is NOT consistent (bad) \n",
    "bias2 = p_hat2 - estimand\n",
    "mse2 = bias2**2 + standard_error2**2\n",
    "\n",
    "print(\"Estimate 2: \" + str(estimator2))\n",
    "print(\"Standard Error 2: \" + str(standard_error2))\n",
    "print(\"Bias 2: \" + str(round(bias2, 3)))\n",
    "print(\"MSE 2: \" + str(round(mse2, 3)))\n",
    "\n",
    "\n",
    "# Consistent but Biased\n",
    "\n",
    "# Estimator: The mean + 1/n\n",
    "estimator3 = p_hat3 = x.sum()/ss + 1/ss\n",
    "standard_error3 = math.sqrt(p_hat3*(1-p_hat3)/sample_size)\n",
    "\n",
    "# Evaluations: \n",
    "# E(mean(x) + 1/n) = p + 1/n =/= p, so this estimator is biased (bad)\n",
    "# But p + 1/n --> p as n --> infinity, so this estimator IS consistent (good)\n",
    "bias3 = p_hat3 - estimand\n",
    "mse3 = bias3**2 + standard_error3**2\n",
    "\n",
    "print(\"Estimate 3: \" + str(p_hat3))\n",
    "print(\"Standard Error 3: \" + str(round(standard_error3, 3)))\n",
    "print(\"Bias 3: \" + str(round(bias3, 3)))\n",
    "print(\"MSE 3: \" + str(round(mse3, 3)))\n",
    "\n"
   ]
  },
  {
   "cell_type": "markdown",
   "metadata": {},
   "source": [
    "When doing work in HODP, it is important to be cognizant about as many potential sources of bias as possible whenever collecting or analyzing data and to choose, as best as possible, consistent estimators of a phenomenon of interest. \n",
    "\n",
    "## Confidence Intervals \n",
    "\n",
    "Point estimates and standard errors are great fits for some phenomenon of interest, but sometimes it is better to have a range of values that describe possible values a fixed yet unknown estimand $\\theta$ could take. In the frequentist paradigm, where probabilities describe frequencies, these ranges are called confidence intervals: formally, a confidence interval of an estimand $\\theta$ is an interval $C_n = (a,b)$ where the bounds are functions of the data such that $$\\mathbb{P}_{\\theta}(\\theta \\in C_n) \\geq 1 - \\alpha \\textrm{for all} \\theta \\in \\Theta$$ where $\\Theta$ is the parameter space and $\\alpha$ is the confidence level. \n",
    "\n"
   ]
  },
  {
   "cell_type": "code",
   "execution_count": 9,
   "metadata": {},
   "outputs": [
    {
     "name": "stdout",
     "output_type": "stream",
     "text": [
      "Normal Quantiles: -1.9599639845400545, 1.959963984540054\n",
      "Mean: 0.74\n",
      "St. Error: 0.044\n",
      "Confidence Internal: [0.65402927 0.82597073]\n"
     ]
    }
   ],
   "source": [
    "# Confidence Interval \n",
    "\n",
    "import scipy.stats\n",
    "\n",
    "alpha = 0.05 # arbitrarily define alpha level\n",
    "confidence_level = 1 - alpha\n",
    "\n",
    "normal_025_quantile = a = scipy.stats.norm(0, 1).ppf(alpha/2)\n",
    "normal_975_quantile = b = scipy.stats.norm(0, 1).ppf(1 - alpha/2)\n",
    "\n",
    "print(\"Normal Quantiles: \" + str(a) +  \", \" + str (b))\n",
    "CI = np.array([estimate + a*standard_error, estimate + b*standard_error])\n",
    "\n",
    "print(\"Mean: \" + str(estimate))\n",
    "print(\"St. Error: \" + str(round(standard_error, 3))) \n",
    "print(\"Confidence Internal: \" + np.array_str(CI))\n",
    "\n"
   ]
  },
  {
   "cell_type": "markdown",
   "metadata": {},
   "source": [
    "Because the interval is a function of the data and therefore random, a correct interpretation of a 95% confidence level (with the arbitrary confidence level of 0.05 chosen for its popularity) is that the random interval would contain the true estimand in 95% of its crystallizations after observing the data. \n"
   ]
  },
  {
   "cell_type": "code",
   "execution_count": 10,
   "metadata": {},
   "outputs": [
    {
     "name": "stdout",
     "output_type": "stream",
     "text": [
      "0.949\n"
     ]
    }
   ],
   "source": [
    "# How often does this random interval cover the true value of 0.7?\n",
    "\n",
    "def confidence_interval_95(estimand, sample_size, trials): \n",
    "    # estimand: the data-generating true value (integer)\n",
    "    # sample_size: number of samples per trial (integer)\n",
    "    # trials: number of experiments and confidence intervals (integer)\n",
    "  \n",
    "    x = np.array([random.binomial(n=1, p=estimand, size=sample_size) for i in range(trials)])\n",
    "    p_hat = x.sum(axis=1)/sample_size # The mean of the data \n",
    "    st_error = np.sqrt(p_hat*(1-p_hat)/sample_size) # Variance of binomial mean is p(1-p)/n\n",
    "\n",
    "    CI_lower = p_hat + a*st_error\n",
    "    CI_upper = p_hat + b*st_error\n",
    "    \n",
    "    truths = (CI_lower < estimand) & (CI_upper > estimand) # Boolean array, true if in range\n",
    "    \n",
    "    # Frequency that confidence interval covers the estimand \n",
    "    coverage = np.sum(truths)/trials\n",
    "    return coverage \n",
    "\n",
    "results = confidence_interval_95(0.7, 100, 10000)\n",
    "print(str(round(results, 4)))"
   ]
  },
  {
   "cell_type": "markdown",
   "metadata": {},
   "source": [
    "Many times in practice, people will define a 95% confidence interval of the mean to be the range of values within two standard errors of the mean. This biggest assumption that this makes is that the parameter of interest is normally distributed. Fortunately, there are many cases in the real world where the normal distribution shows up. However, there are also many cases when it does not, so it good to know when it might appear. Generally, a reasonably large (in practice, this means loosely $n \\geq 30$) sum of random variables sampled from an arbitrary random distribution is approximately normally distributed, per the central limit theorem (proof omitted), implying that the mean, or the sum scaled by a constant factor, is also approximately normally distributed. \n"
   ]
  },
  {
   "cell_type": "code",
   "execution_count": 11,
   "metadata": {},
   "outputs": [
    {
     "data": {
      "image/png": "[encoded data removed]",
      "text/plain": [
       "<Figure size 432x288 with 1 Axes>"
      ]
     },
     "metadata": {
      "needs_background": "light"
     },
     "output_type": "display_data"
    },
    {
     "data": {
      "image/png": "[encoded data removed]",
      "text/plain": [
       "<Figure size 432x288 with 1 Axes>"
      ]
     },
     "metadata": {
      "needs_background": "light"
     },
     "output_type": "display_data"
    },
    {
     "data": {
      "image/png": "[encoded data removed]",
      "text/plain": [
       "<Figure size 432x288 with 1 Axes>"
      ]
     },
     "metadata": {
      "needs_background": "light"
     },
     "output_type": "display_data"
    },
    {
     "data": {
      "image/png": "[encoded data removed]",
      "text/plain": [
       "<Figure size 432x288 with 1 Axes>"
      ]
     },
     "metadata": {
      "needs_background": "light"
     },
     "output_type": "display_data"
    }
   ],
   "source": [
    "# Central Limit Theorem \n",
    "import matplotlib.pyplot as plt\n",
    "\n",
    "\n",
    "def plot_means(estimand, sample_size, trials):\n",
    "    # estimand: the data-generating true value (integer)\n",
    "    # trials: number of the biggest sample size (integer)\n",
    "\n",
    "    x = np.array([random.binomial(n=1, p=estimand, size=sample_size) for i in range(trials)])\n",
    "    p_hat = x.sum(axis=1)/sample_size # The mean of the data \n",
    "    \n",
    "\n",
    "    # An \"interface\" to matplotlib.axes.Axes.hist() method\n",
    "    n, bins, patches = plt.hist(x=p_hat, bins='auto', color='#0504aa',\n",
    "                            alpha=0.7, rwidth=0.85)\n",
    "    plt.grid(axis='y', alpha=0.75)\n",
    "    plt.xlabel('Value')\n",
    "    plt.ylabel('Frequency')\n",
    "    plt.title('Distribution of Sample Meansm, n= %i' %trials)\n",
    "    maxfreq = n.max()\n",
    "    plt.show()\n",
    "  \n",
    "plot_means(0.7, 30, 50)\n",
    "plot_means(0.7, 30, 500)\n",
    "plot_means(0.7, 30, 5000)\n",
    "plot_means(0.7, 30, 50000)"
   ]
  },
  {
   "cell_type": "markdown",
   "metadata": {},
   "source": [
    "\n",
    "If ever unsure about the interpretation of statistics or confidence intervals, or whether the technique you are applying works well with your data, feel free to reach out to anyone in HODP in the slack. We recognize that people have varying degrees of expertise when it comes to statistics and drawing inferences from data, and we would love to help!  \n",
    "\n",
    "# The Benefits of Large Samples\n",
    "\n",
    "Sample size is one of the most important considerations in many experiments in statistics. More data is great for a lot of reasons: the Strong Law of Large Numbers states that sample means probabilistically converge to their true means, the central limit theorem starts to take stronger effect as asymptotics kick in, and, anytime either the variance or bias of an estimator is indirectly related to sample size, the mean squared error of an estimator decreases. \n",
    "\n",
    "Small sample sizes do not mean that an experiment is worthless; it just means that the statistician must be ever more careful when interpreting results. With this in mind, and the language from above, any statistician is ready to dive into analyzing their data. To help with claims about significance and causality, we have created the next docs: Hypothesis Testing. \n",
    "\n",
    "### Example\n",
    "\n",
    "You are interested in determining the proportion of Harvard students with the Pros. You survey 250 people using a simple random sample. You obtain the following data. You decide to estimate the true proportion of students with the Pros by using the sample mean of your data (as your estimator). \n",
    "\n",
    "By writing a few lines of code in the following box, try your best to do the following. If you have a question or run into questions, shoot Asher or Leo a Zoom message! \n",
    "\n",
    "1. Estimate the true proportion of students who own AirPod Pros. \n",
    "2. Evaluate how confident you are in that estimate. \n"
   ]
  },
  {
   "cell_type": "code",
   "execution_count": 12,
   "metadata": {},
   "outputs": [
    {
     "name": "stdout",
     "output_type": "stream",
     "text": [
      "[0 1 1 1 1 1 0 1 1 1 1 1 1 1 0 0 1 1 1 0 1 1 1 0 1 0 1 0 1 1 1 1 1 1 0 0 0\n",
      " 1 1 1 1 1 1 1 1 1 1 1 1 1 1 1 1 0 1 1 1 0 1 1 0 0 1 0 0 0 1 0 1 1 1 1 1 0\n",
      " 0 1 1 1 0 0 1 0 1 1 1 1 1 1 1 1 1 1 1 1 1 1 0 0 1 1]\n"
     ]
    }
   ],
   "source": [
    "# Paramters (do not change)\n",
    "estimand = 0.98\n",
    "ss = 1200\n",
    "\n",
    "# AirPod Pro Data (do not change)\n",
    "pros = random.binomial(n=1, p=estimand, size=ss)\n",
    "print(x) \n",
    "\n",
    "# Estimate  (TO-DO)\n",
    "p_hat = pros.sum()/ss\n",
    "print(p_hat)\n",
    "\n",
    "# Confidnce Interval (TO-DO)\n",
    "st_error = np.sqrt(p_hat*(1-p_hat)/ss) # Variance of binomial mean is p(1-p)/n\n",
    "\n",
    "normal_025_quantile = a = scipy.stats.norm(0, 1).ppf(alpha/2)\n",
    "normal_975_quantile = b = scipy.stats.norm(0, 1).ppf(1 - alpha/2)\n",
    "\n",
    "CI_lower = p_hat + a*st_error\n",
    "CI_upper = p_hat + b*st_error\n",
    "print(CI_lower)\n",
    "print(CI_upper)"
   ]
  },
  {
   "cell_type": "markdown",
   "metadata": {},
   "source": [
    " # Hypothesis Testing\n",
    " \n",
    "Hypothesis testing is a way to test and compare the validity of hypotheses.\n",
    "\n",
    "## Fundumentals\n",
    "\n",
    "Generally, say that we partition a parameter space $\\Theta$ into two disjoint sets $\\Theta_0$ and $\\Theta_1$. Then we have two hypotheses: \n",
    "\n",
    "$H_0 : \\theta \\in \\Theta_0$ and $H_1 : \\theta \\in \\Theta_1$. \n",
    "\n",
    "We call $H_0$ the null hypothesis and $H_1$ the alternate hypothesis. \n",
    "\n",
    "To test these hypotheses, we need data. Let $X$ be a random variable representing our data. We test a hypothesis by finding a subset of outcomes $R$ in the range of $X$ called the rejection region. If $X \\in R$, then we reject the null hypothesis: otherwise, we do not reject the null hypothesis. \n",
    "\n",
    "\n",
    "We never accept the null or alternative hypothesis, we only ever reject $H_0$ or retain $H_0$. \n",
    "\n",
    "We define the rejection region $R$ as the region where a test statistic $T$ is above a $critical value$: \n",
    "\n",
    "$R = {x : T(x) > c }$. \n",
    "\n",
    "The problem in hypothesis testing is of finding an appropriate test statistic $T$ and critical value $c$. \n",
    "\n",
    "Often, estimation and confidence intervals are better tools than hypothesis testing. Only use hypothesis testing when you want to test a well-defined hypothesis. \n",
    "\n",
    "## Errors \n",
    "\n",
    "There are two common errors: false positives, also referred to as type I errors, where we reject $H_0$ when $H_0$ is true, and false negatives, or type II errors, when we retain $H_0$ when $H_1$ is true. \n",
    "\n",
    "\n",
    "## Power \n",
    "\n",
    "The power function of a test with rejection region $R$ is $\\beta(\\theta) = P(X \\in R)$. \n",
    "\n",
    "The size of a test is $\\alpha = \\sup \\beta(\\theta)$. The supremum of a set is the least upper bound. In other words, the size of a test is the largest probability of rejecting $H_0$ when $H_0$ is true. \n",
    "\n",
    "A test has level $\\alpha$ if its size is less than or equal to $\\alpha$. \n",
    "\n",
    "Note: A level $\\alpha$ test rejects $H_0 : \\theta = \\theta_0$ if and only if the $1-\\alpha$ confidence interval does not contain $\\theta_0$. This is important for two reasons. Consider an example where we have a confidence interval and two values outside the interval, one close and one far. In the first case, the estimated value of $\\theta$ is close to $\\theta_0$, so the finding is probably of little value. In the second case, the estimated value is far, so the finding has scientific value. This shows that statistical significance does not imply scientific importance, and that confidence intervals can be more informative than tests. \n",
    "\n",
    "\n",
    "## P-values \n",
    "\n",
    "Often, researchers report more than whether or not they reject or retain the null. Usually, there is a the smallest $\\alpha$ at which the test rejects the null: we call this the p-value. \n",
    "\n",
    "\n",
    "## Warnings! \n",
    "\n",
    "1) If a p-value is large, this has two interpretations: either $H_0$ is true, or $H_0$ is false but the test has low power. A large p-value is not strong evidence in favor of $H_0$.  \n",
    "\n",
    "2)  The p-value is not the probability that the null hypothesis is true! The p-value is the probability under the null of observing a value of the test statistic the same as or more extreme than what was actually observed. \n",
    "\n",
    "3) Hypothesis testing is useful when there is evidence to reject $H_0$. If $H_0$ is the status quo, then this makes sense. We cannot use it to prove that $H_0$ is true. Failure to reject $H_0$ can occur because $H_0$ is true or because the test has low power.\n",
    "\n",
    "4) P-values are also susceptible to p-hacking. This refers to making assumptions about data or tests that influence the p-value to be more favorable, usually to increase the chance of publication. \n",
    "\n",
    "5) As a final point about the problems with p-values, they are susceptible to decisions you make about when to collect data, even if that does not change the data you actually observe. For example, if you toss a coin $n=12$ times and observe  $s = 9$ heads, then if the null hypothesis is that the coin is fair, the one sided test statistic where $t(s) = s$ is 0.073, larger than the marginal 5% threshold.  If instead the modeler kept tossing the coin until they observed $n - s = 3$ tails, then the data-generating distribution becomes negative binomial and under this model and the same null hypothesis we get that the one sided p-value is 0.0327. All of a sudden, without changing the data, there is “significant” evidence of bias in the coin! Long live Bayes :). \n",
    "\n"
   ]
  },
  {
   "cell_type": "markdown",
   "metadata": {},
   "source": [
    "## Observed versus Potential Outcomes\n",
    "*Causal effect or selection bias?*\n",
    "\n",
    "When it comes to differences by insurance status, *ceteris* is not *paribus*. A little formal notation makes the difference precise. For each person, indexed by $i$, define two possibilities:\n",
    "* Health of person $i$ when $i$ is insured: $Y_{1i}$\n",
    "* Health of person $i$ when $i$ is uninsured: $Y_{0i}$\n",
    "\n",
    "The causal effect of insurance on person $i$ is \n",
    "\n",
    "$$ Y_{1i} - Y_{0i} $$\n",
    "\n",
    "We can hope to measure the average causal effect, $E[Y_{1i}-Y_{0i}]$, or the effect of *treatment on the treated*, that is $E[Y_{1i}-Y_{0i}|D_i = 1]$, where $D$ is a dummy that is equal to $1$ if the individual is insured. The first tells us if insurance benefits all in the population, on average, while TOT tells us if those in the insured population benefit from *their coverage*. \n",
    "\n",
    "Why can't we observe this? Write out TOT as:\n",
    "\n",
    "$$ E[Y_{1i}-Y_{0i}|D_i=1] = E[Y_{1i}|D_i=1] - E[Y_{0i}|D_i=1] $$\n",
    "\n",
    "But, we can *never* observe $E[Y_{0i}|D_i=1]$. Why? \n",
    "\n",
    "What if we just considered:\n",
    "\n",
    "$$ E[Y_{i}|D_i=1] - E[Y_{i}|D_i=0] $$\n",
    "\n",
    "Why is this not satisfying? We have an intuition, but let's quantify this just a bit more. \n",
    "\n",
    "$$ E[Y_{i}|D_i=1] - E[Y_{i}|D_i=0] = E[Y_{1i}|D_i=1] - E[Y_{0i}|D_i=0] $$\n",
    "$$ = E[Y_{1i} - Y_{0i}|D_i=1] + \\{E[Y_{0i}|D_i=1] - E[Y_{0i}|D_i=0] \\} $$\n",
    "\n",
    "The naiive difference we computed is the causal effect plus the term in curly brackets, which we call the *selection bias*. Intuitively, it's the additional amount that people without health insurance would have been better off if they had health insurance. "
   ]
  },
  {
   "cell_type": "markdown",
   "metadata": {},
   "source": [
    "An aside: it's pretty rare that we'll be able to show causation in a HODP article, so it's important to frame most of our work as a correlation or trend we noticed, rather than as a direct cause. Often, though, it will intuitively make sense that there \"should\" or at least \"could\" be a causal connection. In those cases, make sure to frame your writing as a \"possible explanation\" than as a statement of what is going on. Cite other research on whether such a trend has a causal effect, or to cite relevant quantitative work."
   ]
  },
  {
   "cell_type": "markdown",
   "metadata": {},
   "source": [
    "## Random Assignment\n",
    "Random assignment eliminates selection bias. The insured and uninsured are the same in every other way! Convince yourself of this by looking at the above math if we knew $E[Y_{1i}|D_i=1] = E[Y_{1i}|D_i=0]$. The average causal effect is the same as the average causal effect on the treated. \n",
    "\n",
    "### We aren't running experiments! Why did you explain all this?\n",
    "Randomized research designs are a somewhat unnatainable ideal. We can't often do them. But, by understanding the framework, we can judge our attempts by how closely they're able to shape up. \n",
    "\n",
    "The first question to be answered when thinking about causal effects is thus always: *What's the experiment you'd like to do?*"
   ]
  },
  {
   "cell_type": "markdown",
   "metadata": {},
   "source": [
    "## The RAND Health Insurance Experiment\n",
    "In the 1970s, researchers at RAND randomly assigned 6,000 people to experimental insurance plans that required either no cost-sharing, a modest deductible, or 25%, 50%, or 95% coinsurance rates on subscribes. For more on this, check out Aron-Dine et. al (2013), which I've put in the repo. \n",
    "\n",
    "I've gone through and cleaned the dataset for you. The no cost-sharing \"Free\" plan is plantype 1, plantype 2 is the \"Individual Deductible\", plantype 3 are the two \"Cost-Sharing\", and plantype 4 is the 95% coinsurance \"Catastrophic\" plan.\n",
    "\n",
    "\n",
    "Let's import the data and see what happened:"
   ]
  },
  {
   "cell_type": "code",
   "execution_count": 13,
   "metadata": {},
   "outputs": [
    {
     "name": "stderr",
     "output_type": "stream",
     "text": [
      "/usr/local/lib/python3.7/site-packages/IPython/core/interactiveshell.py:3058: DtypeWarning: Columns (284,288) have mixed types. Specify dtype option on import or set low_memory=False.\n",
      "  interactivity=interactivity, compiler=compiler, result=result)\n"
     ]
    },
    {
     "data": {
      "text/html": [
       "<div>\n",
       "<style scoped>\n",
       "    .dataframe tbody tr th:only-of-type {\n",
       "        vertical-align: middle;\n",
       "    }\n",
       "\n",
       "    .dataframe tbody tr th {\n",
       "        vertical-align: top;\n",
       "    }\n",
       "\n",
       "    .dataframe thead th {\n",
       "        text-align: right;\n",
       "    }\n",
       "</style>\n",
       "<table border=\"1\" class=\"dataframe\">\n",
       "  <thead>\n",
       "    <tr style=\"text-align: right;\">\n",
       "      <th></th>\n",
       "      <th>person</th>\n",
       "      <th>site</th>\n",
       "      <th>instat</th>\n",
       "      <th>bfamily</th>\n",
       "      <th>bhh</th>\n",
       "      <th>xperson</th>\n",
       "      <th>baseld</th>\n",
       "      <th>enrterm</th>\n",
       "      <th>enrdate</th>\n",
       "      <th>annd</th>\n",
       "      <th>...</th>\n",
       "      <th>cap</th>\n",
       "      <th>capx</th>\n",
       "      <th>pfi</th>\n",
       "      <th>pfix</th>\n",
       "      <th>mhi</th>\n",
       "      <th>mhix</th>\n",
       "      <th>ghindx</th>\n",
       "      <th>ghindxx</th>\n",
       "      <th>merge2</th>\n",
       "      <th>merge3</th>\n",
       "    </tr>\n",
       "  </thead>\n",
       "  <tbody>\n",
       "    <tr>\n",
       "      <th>0</th>\n",
       "      <td>NaN</td>\n",
       "      <td>NaN</td>\n",
       "      <td>NaN</td>\n",
       "      <td>NaN</td>\n",
       "      <td>NaN</td>\n",
       "      <td>NaN</td>\n",
       "      <td>NaN</td>\n",
       "      <td>NaN</td>\n",
       "      <td>NaN</td>\n",
       "      <td>NaN</td>\n",
       "      <td>...</td>\n",
       "      <td>NaN</td>\n",
       "      <td>NaN</td>\n",
       "      <td>NaN</td>\n",
       "      <td>NaN</td>\n",
       "      <td>NaN</td>\n",
       "      <td>NaN</td>\n",
       "      <td>NaN</td>\n",
       "      <td>NaN</td>\n",
       "      <td>using only (2)</td>\n",
       "      <td>master only (1)</td>\n",
       "    </tr>\n",
       "    <tr>\n",
       "      <th>1</th>\n",
       "      <td>MA250247</td>\n",
       "      <td>Dayton</td>\n",
       "      <td>1.0</td>\n",
       "      <td>KA100082</td>\n",
       "      <td>JA000082</td>\n",
       "      <td>MA250271</td>\n",
       "      <td>19740618.0</td>\n",
       "      <td>5.0</td>\n",
       "      <td>19750201.0</td>\n",
       "      <td>201.0</td>\n",
       "      <td>...</td>\n",
       "      <td>NaN</td>\n",
       "      <td>100.0</td>\n",
       "      <td>5.0</td>\n",
       "      <td>5.0</td>\n",
       "      <td>95.000000</td>\n",
       "      <td>94.699997</td>\n",
       "      <td>NaN</td>\n",
       "      <td>71.599998</td>\n",
       "      <td>matched (3)</td>\n",
       "      <td>matched (3)</td>\n",
       "    </tr>\n",
       "    <tr>\n",
       "      <th>2</th>\n",
       "      <td>MA250255</td>\n",
       "      <td>Dayton</td>\n",
       "      <td>1.0</td>\n",
       "      <td>KA100082</td>\n",
       "      <td>JA000082</td>\n",
       "      <td>MA250271</td>\n",
       "      <td>19740618.0</td>\n",
       "      <td>5.0</td>\n",
       "      <td>19750201.0</td>\n",
       "      <td>201.0</td>\n",
       "      <td>...</td>\n",
       "      <td>NaN</td>\n",
       "      <td>100.0</td>\n",
       "      <td>5.0</td>\n",
       "      <td>5.0</td>\n",
       "      <td>93.800003</td>\n",
       "      <td>76.099998</td>\n",
       "      <td>NaN</td>\n",
       "      <td>69.300003</td>\n",
       "      <td>matched (3)</td>\n",
       "      <td>matched (3)</td>\n",
       "    </tr>\n",
       "    <tr>\n",
       "      <th>3</th>\n",
       "      <td>MA250263</td>\n",
       "      <td>Dayton</td>\n",
       "      <td>1.0</td>\n",
       "      <td>KA100082</td>\n",
       "      <td>JA000082</td>\n",
       "      <td>MA250271</td>\n",
       "      <td>19740618.0</td>\n",
       "      <td>5.0</td>\n",
       "      <td>19750201.0</td>\n",
       "      <td>201.0</td>\n",
       "      <td>...</td>\n",
       "      <td>NaN</td>\n",
       "      <td>100.0</td>\n",
       "      <td>5.0</td>\n",
       "      <td>5.0</td>\n",
       "      <td>98.699997</td>\n",
       "      <td>96.800003</td>\n",
       "      <td>NaN</td>\n",
       "      <td>92.000000</td>\n",
       "      <td>matched (3)</td>\n",
       "      <td>matched (3)</td>\n",
       "    </tr>\n",
       "    <tr>\n",
       "      <th>4</th>\n",
       "      <td>MA250271</td>\n",
       "      <td>Dayton</td>\n",
       "      <td>1.0</td>\n",
       "      <td>KA100082</td>\n",
       "      <td>JA000082</td>\n",
       "      <td>MA250271</td>\n",
       "      <td>19740618.0</td>\n",
       "      <td>5.0</td>\n",
       "      <td>19750201.0</td>\n",
       "      <td>201.0</td>\n",
       "      <td>...</td>\n",
       "      <td>NaN</td>\n",
       "      <td>100.0</td>\n",
       "      <td>5.0</td>\n",
       "      <td>5.0</td>\n",
       "      <td>96.300003</td>\n",
       "      <td>80.300003</td>\n",
       "      <td>NaN</td>\n",
       "      <td>73.900002</td>\n",
       "      <td>matched (3)</td>\n",
       "      <td>matched (3)</td>\n",
       "    </tr>\n",
       "  </tbody>\n",
       "</table>\n",
       "<p>5 rows × 364 columns</p>\n",
       "</div>"
      ],
      "text/plain": [
       "     person    site  instat   bfamily       bhh   xperson      baseld  \\\n",
       "0       NaN     NaN     NaN       NaN       NaN       NaN         NaN   \n",
       "1  MA250247  Dayton     1.0  KA100082  JA000082  MA250271  19740618.0   \n",
       "2  MA250255  Dayton     1.0  KA100082  JA000082  MA250271  19740618.0   \n",
       "3  MA250263  Dayton     1.0  KA100082  JA000082  MA250271  19740618.0   \n",
       "4  MA250271  Dayton     1.0  KA100082  JA000082  MA250271  19740618.0   \n",
       "\n",
       "   enrterm     enrdate   annd  ...  cap   capx  pfi  pfix        mhi  \\\n",
       "0      NaN         NaN    NaN  ...  NaN    NaN  NaN   NaN        NaN   \n",
       "1      5.0  19750201.0  201.0  ...  NaN  100.0  5.0   5.0  95.000000   \n",
       "2      5.0  19750201.0  201.0  ...  NaN  100.0  5.0   5.0  93.800003   \n",
       "3      5.0  19750201.0  201.0  ...  NaN  100.0  5.0   5.0  98.699997   \n",
       "4      5.0  19750201.0  201.0  ...  NaN  100.0  5.0   5.0  96.300003   \n",
       "\n",
       "        mhix  ghindx    ghindxx          merge2           merge3  \n",
       "0        NaN     NaN        NaN  using only (2)  master only (1)  \n",
       "1  94.699997     NaN  71.599998     matched (3)      matched (3)  \n",
       "2  76.099998     NaN  69.300003     matched (3)      matched (3)  \n",
       "3  96.800003     NaN  92.000000     matched (3)      matched (3)  \n",
       "4  80.300003     NaN  73.900002     matched (3)      matched (3)  \n",
       "\n",
       "[5 rows x 364 columns]"
      ]
     },
     "execution_count": 13,
     "metadata": {},
     "output_type": "execute_result"
    }
   ],
   "source": [
    "rand = pd.read_csv(\"randhie_health.csv\")\n",
    "rand.head()"
   ]
  },
  {
   "cell_type": "markdown",
   "metadata": {},
   "source": [
    "## Impact?\n",
    "Did those on the \"free\" plan become healthier? Let's find out: compare ghindxx, a measure of health at exit of the survey, across the \"Catastrophic\" and \"Free\" groups. "
   ]
  },
  {
   "cell_type": "code",
   "execution_count": 21,
   "metadata": {},
   "outputs": [],
   "source": [
    "free = rand[rand.plantype == 1]\n",
    "catastrophic = rand[rand.plantype == 4]\n",
    "\n",
    "# difference in means \n",
    "\n",
    "# we need to drop NaNs here, so add .dropna() to the two subgroups you're comparing \n",
    "\n",
    "# Generate a confidence interval for the difference\n",
    "\n"
   ]
  },
  {
   "cell_type": "markdown",
   "metadata": {},
   "source": [
    "## Life and death?\n",
    "\n",
    "Economists before RAND believed that health spending was inelastic, that is, you went to the hospital when you *needed* to, it didn't vary depending on what it cost. (Why is this important?)\n",
    "\n",
    "Did giving people healthcare make them spend more on insurance? Run a t test where you compare plantype 1 and 4, for instance, using hosp_spend, which is the sum of in-patient and out-patient spending.\n",
    "\n",
    "What if we just look at in-patient (inpdol) spending? Why might that be different? \n",
    "\n",
    "Why might we care about this? How would you report these results?"
   ]
  },
  {
   "cell_type": "code",
   "execution_count": 10,
   "metadata": {
    "scrolled": false
   },
   "outputs": [
    {
     "name": "stderr",
     "output_type": "stream",
     "text": [
      "/usr/local/lib/python3.7/site-packages/IPython/core/interactiveshell.py:3058: DtypeWarning: Columns (73,123,275,279) have mixed types. Specify dtype option on import or set low_memory=False.\n",
      "  interactivity=interactivity, compiler=compiler, result=result)\n"
     ]
    },
    {
     "data": {
      "text/html": [
       "<div>\n",
       "<style scoped>\n",
       "    .dataframe tbody tr th:only-of-type {\n",
       "        vertical-align: middle;\n",
       "    }\n",
       "\n",
       "    .dataframe tbody tr th {\n",
       "        vertical-align: top;\n",
       "    }\n",
       "\n",
       "    .dataframe thead th {\n",
       "        text-align: right;\n",
       "    }\n",
       "</style>\n",
       "<table border=\"1\" class=\"dataframe\">\n",
       "  <thead>\n",
       "    <tr style=\"text-align: right;\">\n",
       "      <th></th>\n",
       "      <th>person</th>\n",
       "      <th>year</th>\n",
       "      <th>spending</th>\n",
       "      <th>inp</th>\n",
       "      <th>out</th>\n",
       "      <th>out_rand</th>\n",
       "      <th>mental</th>\n",
       "      <th>mdcl</th>\n",
       "      <th>drugs</th>\n",
       "      <th>supplies</th>\n",
       "      <th>...</th>\n",
       "      <th>mde</th>\n",
       "      <th>coins</th>\n",
       "      <th>coins_dental</th>\n",
       "      <th>inpdol</th>\n",
       "      <th>outpdol</th>\n",
       "      <th>meddol</th>\n",
       "      <th>totadm</th>\n",
       "      <th>outsum</th>\n",
       "      <th>hosp_spend</th>\n",
       "      <th>plantype</th>\n",
       "    </tr>\n",
       "  </thead>\n",
       "  <tbody>\n",
       "    <tr>\n",
       "      <th>0</th>\n",
       "      <td>MA250247</td>\n",
       "      <td>1</td>\n",
       "      <td>14.35</td>\n",
       "      <td>0.0</td>\n",
       "      <td>14.35</td>\n",
       "      <td>14.35</td>\n",
       "      <td>0.0</td>\n",
       "      <td>14.35</td>\n",
       "      <td>14.35</td>\n",
       "      <td>0.0</td>\n",
       "      <td>...</td>\n",
       "      <td>1000.0</td>\n",
       "      <td>1.00</td>\n",
       "      <td>1.00</td>\n",
       "      <td>0.0</td>\n",
       "      <td>0.0</td>\n",
       "      <td>14.35</td>\n",
       "      <td>0.0</td>\n",
       "      <td>14.35</td>\n",
       "      <td>14.35</td>\n",
       "      <td>4</td>\n",
       "    </tr>\n",
       "    <tr>\n",
       "      <th>1</th>\n",
       "      <td>MA250247</td>\n",
       "      <td>2</td>\n",
       "      <td>115.15</td>\n",
       "      <td>0.0</td>\n",
       "      <td>115.15</td>\n",
       "      <td>115.15</td>\n",
       "      <td>0.0</td>\n",
       "      <td>115.15</td>\n",
       "      <td>24.65</td>\n",
       "      <td>0.0</td>\n",
       "      <td>...</td>\n",
       "      <td>1000.0</td>\n",
       "      <td>0.95</td>\n",
       "      <td>0.95</td>\n",
       "      <td>0.0</td>\n",
       "      <td>90.5</td>\n",
       "      <td>115.15</td>\n",
       "      <td>0.0</td>\n",
       "      <td>115.15</td>\n",
       "      <td>115.15</td>\n",
       "      <td>4</td>\n",
       "    </tr>\n",
       "    <tr>\n",
       "      <th>2</th>\n",
       "      <td>MA250247</td>\n",
       "      <td>3</td>\n",
       "      <td>0.00</td>\n",
       "      <td>0.0</td>\n",
       "      <td>0.00</td>\n",
       "      <td>0.00</td>\n",
       "      <td>0.0</td>\n",
       "      <td>0.00</td>\n",
       "      <td>0.00</td>\n",
       "      <td>0.0</td>\n",
       "      <td>...</td>\n",
       "      <td>1000.0</td>\n",
       "      <td>0.95</td>\n",
       "      <td>0.95</td>\n",
       "      <td>0.0</td>\n",
       "      <td>0.0</td>\n",
       "      <td>0.00</td>\n",
       "      <td>0.0</td>\n",
       "      <td>0.00</td>\n",
       "      <td>0.00</td>\n",
       "      <td>4</td>\n",
       "    </tr>\n",
       "    <tr>\n",
       "      <th>3</th>\n",
       "      <td>MA250247</td>\n",
       "      <td>4</td>\n",
       "      <td>110.00</td>\n",
       "      <td>0.0</td>\n",
       "      <td>110.00</td>\n",
       "      <td>0.00</td>\n",
       "      <td>0.0</td>\n",
       "      <td>0.00</td>\n",
       "      <td>0.00</td>\n",
       "      <td>0.0</td>\n",
       "      <td>...</td>\n",
       "      <td>1000.0</td>\n",
       "      <td>0.95</td>\n",
       "      <td>0.95</td>\n",
       "      <td>0.0</td>\n",
       "      <td>0.0</td>\n",
       "      <td>0.00</td>\n",
       "      <td>0.0</td>\n",
       "      <td>0.00</td>\n",
       "      <td>0.00</td>\n",
       "      <td>4</td>\n",
       "    </tr>\n",
       "    <tr>\n",
       "      <th>4</th>\n",
       "      <td>MA250247</td>\n",
       "      <td>5</td>\n",
       "      <td>0.00</td>\n",
       "      <td>0.0</td>\n",
       "      <td>0.00</td>\n",
       "      <td>0.00</td>\n",
       "      <td>0.0</td>\n",
       "      <td>0.00</td>\n",
       "      <td>0.00</td>\n",
       "      <td>0.0</td>\n",
       "      <td>...</td>\n",
       "      <td>1000.0</td>\n",
       "      <td>0.95</td>\n",
       "      <td>0.95</td>\n",
       "      <td>0.0</td>\n",
       "      <td>0.0</td>\n",
       "      <td>0.00</td>\n",
       "      <td>0.0</td>\n",
       "      <td>0.00</td>\n",
       "      <td>0.00</td>\n",
       "      <td>4</td>\n",
       "    </tr>\n",
       "  </tbody>\n",
       "</table>\n",
       "<p>5 rows × 314 columns</p>\n",
       "</div>"
      ],
      "text/plain": [
       "     person  year  spending  inp     out  out_rand  mental    mdcl  drugs  \\\n",
       "0  MA250247     1     14.35  0.0   14.35     14.35     0.0   14.35  14.35   \n",
       "1  MA250247     2    115.15  0.0  115.15    115.15     0.0  115.15  24.65   \n",
       "2  MA250247     3      0.00  0.0    0.00      0.00     0.0    0.00   0.00   \n",
       "3  MA250247     4    110.00  0.0  110.00      0.00     0.0    0.00   0.00   \n",
       "4  MA250247     5      0.00  0.0    0.00      0.00     0.0    0.00   0.00   \n",
       "\n",
       "   supplies  ...     mde  coins  coins_dental  inpdol  outpdol  meddol  \\\n",
       "0       0.0  ...  1000.0   1.00          1.00     0.0      0.0   14.35   \n",
       "1       0.0  ...  1000.0   0.95          0.95     0.0     90.5  115.15   \n",
       "2       0.0  ...  1000.0   0.95          0.95     0.0      0.0    0.00   \n",
       "3       0.0  ...  1000.0   0.95          0.95     0.0      0.0    0.00   \n",
       "4       0.0  ...  1000.0   0.95          0.95     0.0      0.0    0.00   \n",
       "\n",
       "   totadm  outsum  hosp_spend  plantype  \n",
       "0     0.0   14.35       14.35         4  \n",
       "1     0.0  115.15      115.15         4  \n",
       "2     0.0    0.00        0.00         4  \n",
       "3     0.0    0.00        0.00         4  \n",
       "4     0.0    0.00        0.00         4  \n",
       "\n",
       "[5 rows x 314 columns]"
      ]
     },
     "execution_count": 10,
     "metadata": {},
     "output_type": "execute_result"
    }
   ],
   "source": [
    "rand = pd.read_csv(\"randhie_spending.csv\")\n",
    "rand.head()"
   ]
  },
  {
   "cell_type": "code",
   "execution_count": 3,
   "metadata": {},
   "outputs": [],
   "source": [
    "# Write a t-test comparing hosp_spend across plantypes here \n",
    "\n",
    "# Generate a confidence interval for the difference"
   ]
  },
  {
   "cell_type": "code",
   "execution_count": 8,
   "metadata": {},
   "outputs": [],
   "source": [
    "# now compare indpol"
   ]
  },
  {
   "cell_type": "code",
   "execution_count": 9,
   "metadata": {},
   "outputs": [],
   "source": [
    "# construct a confidence interval for the difference in hosp_spend or impdol! "
   ]
  },
  {
   "cell_type": "markdown",
   "metadata": {},
   "source": [
    "## Basic Regression\n",
    "Regression is a very useful tool for prediction. Linear regressions allow us to easily model a linear relationship between a response/dependent/Y variable and 1 or more predictor/independent/X variables. We define the regression of $Y$ on $X$ as the *best linear predictor* of $Y$ given $X$. \n",
    "\n",
    "Formally, we define regression as the minimum mean squared error for the expression $E[Y_i - \\alpha - \\beta X_i]^2$. We can define $\\beta$ as $\\text{cov}(X_i,Y_i)/\\text{var}(X_i)$, and $\\alpha$ as $E[Y_i] - E[X_i]\\beta$. To prove this, just take a derivative of our MSE equation and solve for the unknowns! Regression has some very nice mathematical properties that we won't go into here. If you plan to use regression in your project, please come talk to us for a more in depth treatment of the subject!"
   ]
  },
  {
   "cell_type": "markdown",
   "metadata": {},
   "source": [
    "Regressions in Python are fairly easy to do: we just need a Y list, and at least one X list of equal length! Note that we'll need to reshape the data a bit first."
   ]
  },
  {
   "cell_type": "code",
   "execution_count": 14,
   "metadata": {},
   "outputs": [
    {
     "data": {
      "image/png": "[encoded data removed]",
      "text/plain": [
       "<Figure size 432x288 with 1 Axes>"
      ]
     },
     "metadata": {
      "needs_background": "light"
     },
     "output_type": "display_data"
    },
    {
     "name": "stdout",
     "output_type": "stream",
     "text": [
      "80.00570187347272 [-4.48493076]\n",
      "[-0.41418385]\n",
      "(-0.414183846812948, 0.18070743478976728)\n"
     ]
    }
   ],
   "source": [
    "from sklearn import linear_model\n",
    "import statsmodels.api as sm\n",
    "from scipy.stats.stats import pearsonr\n",
    "\n",
    "lm = linear_model.LinearRegression()\n",
    "rankings = pd.read_csv(\"house_rankings_2018.csv\")\n",
    "houses = rankings.House\n",
    "rankings.set_index(\"House\", inplace = True)\n",
    "\n",
    "#walking time from Widener Library (in minutes), from Google Maps\n",
    "dist = [2, 15, 7, 8, 3, 5, 7, 16, 7, 2, 17, 6]\n",
    "\n",
    "# Reshape distances as a column vector\n",
    "dist_reshaped = np.array(dist).reshape(-1,1)\n",
    "first_place = [rankings.values[i,0] for i in range(0, 12)]\n",
    "\n",
    "#X, Y is the order\n",
    "reg = lm.fit(dist_reshaped, first_place)\n",
    "beta0, beta1 = reg.intercept_, reg.coef_\n",
    "y_predict = np.multiply(dist_reshaped,beta1) + beta0\n",
    "\n",
    "fig, ax = plt.subplots(1, 1, sharey=True, tight_layout=True)\n",
    "ax.scatter(dist_reshaped, first_place)\n",
    "plt.plot(dist_reshaped, y_predict, '-o',color='r')\n",
    "ax.set_title(\"Predicting First place from Distance from Widener\", fontsize=14)\n",
    "plt.show()\n",
    "print(beta0, beta1)\n",
    "\n",
    "# Demystifying Beta1\n",
    "covariance = beta1 * np.var(dist) \n",
    "cor = covariance / (np.std(dist) * np.std(first_place))\n",
    "print(cor)\n",
    "print(pearsonr(first_place, dist))"
   ]
  },
  {
   "cell_type": "markdown",
   "metadata": {},
   "source": [
    "You can also do this a slightly different way using an OLS object to get more information. You just have to further reformat your data. "
   ]
  },
  {
   "cell_type": "code",
   "execution_count": 15,
   "metadata": {},
   "outputs": [
    {
     "name": "stderr",
     "output_type": "stream",
     "text": [
      "/usr/local/lib/python3.7/site-packages/scipy/stats/stats.py:1535: UserWarning: kurtosistest only valid for n>=20 ... continuing anyway, n=12\n",
      "  \"anyway, n=%i\" % int(n))\n"
     ]
    },
    {
     "data": {
      "text/html": [
       "<table class=\"simpletable\">\n",
       "<caption>OLS Regression Results</caption>\n",
       "<tr>\n",
       "  <th>Dep. Variable:</th>            <td>y</td>        <th>  R-squared:         </th> <td>   0.172</td>\n",
       "</tr>\n",
       "<tr>\n",
       "  <th>Model:</th>                   <td>OLS</td>       <th>  Adj. R-squared:    </th> <td>   0.089</td>\n",
       "</tr>\n",
       "<tr>\n",
       "  <th>Method:</th>             <td>Least Squares</td>  <th>  F-statistic:       </th> <td>   2.071</td>\n",
       "</tr>\n",
       "<tr>\n",
       "  <th>Date:</th>             <td>Fri, 28 Feb 2020</td> <th>  Prob (F-statistic):</th>  <td> 0.181</td> \n",
       "</tr>\n",
       "<tr>\n",
       "  <th>Time:</th>                 <td>19:04:16</td>     <th>  Log-Likelihood:    </th> <td> -63.934</td>\n",
       "</tr>\n",
       "<tr>\n",
       "  <th>No. Observations:</th>      <td>    12</td>      <th>  AIC:               </th> <td>   131.9</td>\n",
       "</tr>\n",
       "<tr>\n",
       "  <th>Df Residuals:</th>          <td>    10</td>      <th>  BIC:               </th> <td>   132.8</td>\n",
       "</tr>\n",
       "<tr>\n",
       "  <th>Df Model:</th>              <td>     1</td>      <th>                     </th>     <td> </td>   \n",
       "</tr>\n",
       "<tr>\n",
       "  <th>Covariance Type:</th>      <td>nonrobust</td>    <th>                     </th>     <td> </td>   \n",
       "</tr>\n",
       "</table>\n",
       "<table class=\"simpletable\">\n",
       "<tr>\n",
       "    <td></td>       <th>coef</th>     <th>std err</th>      <th>t</th>      <th>P>|t|</th>  <th>[0.025</th>    <th>0.975]</th>  \n",
       "</tr>\n",
       "<tr>\n",
       "  <th>const</th> <td>   80.0057</td> <td>   29.279</td> <td>    2.733</td> <td> 0.021</td> <td>   14.768</td> <td>  145.243</td>\n",
       "</tr>\n",
       "<tr>\n",
       "  <th>x1</th>    <td>   -4.4849</td> <td>    3.117</td> <td>   -1.439</td> <td> 0.181</td> <td>  -11.429</td> <td>    2.460</td>\n",
       "</tr>\n",
       "</table>\n",
       "<table class=\"simpletable\">\n",
       "<tr>\n",
       "  <th>Omnibus:</th>       <td> 8.123</td> <th>  Durbin-Watson:     </th> <td>   1.092</td>\n",
       "</tr>\n",
       "<tr>\n",
       "  <th>Prob(Omnibus):</th> <td> 0.017</td> <th>  Jarque-Bera (JB):  </th> <td>   4.173</td>\n",
       "</tr>\n",
       "<tr>\n",
       "  <th>Skew:</th>          <td> 1.378</td> <th>  Prob(JB):          </th> <td>   0.124</td>\n",
       "</tr>\n",
       "<tr>\n",
       "  <th>Kurtosis:</th>      <td> 3.864</td> <th>  Cond. No.          </th> <td>    17.6</td>\n",
       "</tr>\n",
       "</table><br/><br/>Warnings:<br/>[1] Standard Errors assume that the covariance matrix of the errors is correctly specified."
      ],
      "text/plain": [
       "<class 'statsmodels.iolib.summary.Summary'>\n",
       "\"\"\"\n",
       "                            OLS Regression Results                            \n",
       "==============================================================================\n",
       "Dep. Variable:                      y   R-squared:                       0.172\n",
       "Model:                            OLS   Adj. R-squared:                  0.089\n",
       "Method:                 Least Squares   F-statistic:                     2.071\n",
       "Date:                Fri, 28 Feb 2020   Prob (F-statistic):              0.181\n",
       "Time:                        19:04:16   Log-Likelihood:                -63.934\n",
       "No. Observations:                  12   AIC:                             131.9\n",
       "Df Residuals:                      10   BIC:                             132.8\n",
       "Df Model:                           1                                         \n",
       "Covariance Type:            nonrobust                                         \n",
       "==============================================================================\n",
       "                 coef    std err          t      P>|t|      [0.025      0.975]\n",
       "------------------------------------------------------------------------------\n",
       "const         80.0057     29.279      2.733      0.021      14.768     145.243\n",
       "x1            -4.4849      3.117     -1.439      0.181     -11.429       2.460\n",
       "==============================================================================\n",
       "Omnibus:                        8.123   Durbin-Watson:                   1.092\n",
       "Prob(Omnibus):                  0.017   Jarque-Bera (JB):                4.173\n",
       "Skew:                           1.378   Prob(JB):                        0.124\n",
       "Kurtosis:                       3.864   Cond. No.                         17.6\n",
       "==============================================================================\n",
       "\n",
       "Warnings:\n",
       "[1] Standard Errors assume that the covariance matrix of the errors is correctly specified.\n",
       "\"\"\""
      ]
     },
     "execution_count": 15,
     "metadata": {},
     "output_type": "execute_result"
    }
   ],
   "source": [
    "dist_reshaped_ols = sm.add_constant(dist_reshaped)\n",
    "mod = sm.OLS(first_place,dist_reshaped_ols)\n",
    "results = mod.fit()\n",
    "results.summary()"
   ]
  },
  {
   "cell_type": "markdown",
   "metadata": {},
   "source": [
    "## Interpreting your Coefficients\n",
    "In simple regression, we can interpret the coefficients easily. In this case, the coefficient 1.468 is the change in Leverett ratings for a one unit change in Boston temperature. \n",
    "\n",
    "The coefficient -42.97 is the predicted number of Leverett ratings if the monthly high temperature in Boston was 0. "
   ]
  },
  {
   "cell_type": "markdown",
   "metadata": {},
   "source": [
    "### Aside: Demystifying Beta_1 \n",
    "Somewhat unsurprisingly, there is a relationship between beta_1 and your correlation. It turns out, if your X's and Y's are standardized, then your correlation coefficient is equal to your beta_1 coefficient. You can actually get from beta1 to the correlation coefficient really easily by doing some simple algebra. \n"
   ]
  },
  {
   "cell_type": "code",
   "execution_count": 16,
   "metadata": {},
   "outputs": [
    {
     "name": "stdout",
     "output_type": "stream",
     "text": [
      "[-0.41418385]\n",
      "-0.414183846812948\n"
     ]
    }
   ],
   "source": [
    "# Demystifying Beta1\n",
    "covariance = beta1 * np.var(dist) \n",
    "cor = covariance / (np.std(dist) * np.std(first_place))\n",
    "print(cor)\n",
    "print(pearsonr(first_place, dist)[0])"
   ]
  },
  {
   "cell_type": "markdown",
   "metadata": {},
   "source": [
    "## Assumptions\n",
    "* Linearity\n",
    "* Equal Spread \n",
    "* Normality of Errors\n",
    "* Independence of assumptions\n",
    "\n",
    "We can check the first three of these with a plot of our linear model and a plot of the residuals versus the predicted value. These plots are given below. We can see from the plots that there's a problem. Well two, actually. There are clearly two outliers throwing everything off!\n",
    "\n",
    "Into the weeds about the plots: From the first plot, we see that there appear to be two outliers - influential points - that are skewing our model. The residual histogram seems to make our normality of errors assumption questionable, but that's mostly caused by the outliers as well. Our residuals vs. predicted plot looks terrible as well because of these two outliers. Although there's no obvious pattern in our residuals, they don't appear to have equal spread. \n",
    "\n",
    "Take a Stats course for more clarity on the assumptions. If you don't get all of this, that's okay. You'll never put this in your article, but I would feel like I'm committing statistical malpractice if I didn't at least make you aware of the assumptions regarding regression. "
   ]
  },
  {
   "cell_type": "code",
   "execution_count": 28,
   "metadata": {},
   "outputs": [
    {
     "data": {
      "image/png": "[encoded data removed]",
      "text/plain": [
       "<Figure size 576x396 with 2 Axes>"
      ]
     },
     "metadata": {},
     "output_type": "display_data"
    },
    {
     "ename": "ValueError",
     "evalue": "matmul: Input operand 1 has a mismatch in its core dimension 0, with gufunc signature (n?,k),(k,m?)->(n?,m?) (size 3 is different from 1)",
     "output_type": "error",
     "traceback": [
      "\u001b[0;31m---------------------------------------------------------------------------\u001b[0m",
      "\u001b[0;31mValueError\u001b[0m                                Traceback (most recent call last)",
      "\u001b[0;32m<ipython-input-28-00405a5b5529>\u001b[0m in \u001b[0;36m<module>\u001b[0;34m\u001b[0m\n\u001b[1;32m      9\u001b[0m \u001b[0;34m\u001b[0m\u001b[0m\n\u001b[1;32m     10\u001b[0m \u001b[0mvisualizer\u001b[0m \u001b[0;34m=\u001b[0m \u001b[0mResidualsPlot\u001b[0m\u001b[0;34m(\u001b[0m\u001b[0mreg\u001b[0m\u001b[0;34m)\u001b[0m\u001b[0;34m\u001b[0m\u001b[0;34m\u001b[0m\u001b[0m\n\u001b[0;32m---> 11\u001b[0;31m \u001b[0mvisualizer\u001b[0m\u001b[0;34m.\u001b[0m\u001b[0mfit\u001b[0m\u001b[0;34m(\u001b[0m\u001b[0mdist_reshaped\u001b[0m\u001b[0;34m,\u001b[0m \u001b[0mfirst_place\u001b[0m\u001b[0;34m)\u001b[0m\u001b[0;34m\u001b[0m\u001b[0;34m\u001b[0m\u001b[0m\n\u001b[0m\u001b[1;32m     12\u001b[0m \u001b[0mvisualizer\u001b[0m\u001b[0;34m.\u001b[0m\u001b[0mshow\u001b[0m\u001b[0;34m(\u001b[0m\u001b[0;34m)\u001b[0m\u001b[0;34m\u001b[0m\u001b[0;34m\u001b[0m\u001b[0m\n",
      "\u001b[0;32m/usr/local/lib/python3.7/site-packages/yellowbrick/regressor/residuals.py\u001b[0m in \u001b[0;36mfit\u001b[0;34m(self, X, y, **kwargs)\u001b[0m\n\u001b[1;32m    580\u001b[0m         \u001b[0;31m# fit the underlying model to the data\u001b[0m\u001b[0;34m\u001b[0m\u001b[0;34m\u001b[0m\u001b[0;34m\u001b[0m\u001b[0m\n\u001b[1;32m    581\u001b[0m         \u001b[0msuper\u001b[0m\u001b[0;34m(\u001b[0m\u001b[0mResidualsPlot\u001b[0m\u001b[0;34m,\u001b[0m \u001b[0mself\u001b[0m\u001b[0;34m)\u001b[0m\u001b[0;34m.\u001b[0m\u001b[0mfit\u001b[0m\u001b[0;34m(\u001b[0m\u001b[0mX\u001b[0m\u001b[0;34m,\u001b[0m \u001b[0my\u001b[0m\u001b[0;34m,\u001b[0m \u001b[0;34m**\u001b[0m\u001b[0mkwargs\u001b[0m\u001b[0;34m)\u001b[0m\u001b[0;34m\u001b[0m\u001b[0;34m\u001b[0m\u001b[0m\n\u001b[0;32m--> 582\u001b[0;31m         \u001b[0mself\u001b[0m\u001b[0;34m.\u001b[0m\u001b[0mscore\u001b[0m\u001b[0;34m(\u001b[0m\u001b[0mX\u001b[0m\u001b[0;34m,\u001b[0m \u001b[0my\u001b[0m\u001b[0;34m,\u001b[0m \u001b[0mtrain\u001b[0m\u001b[0;34m=\u001b[0m\u001b[0;32mTrue\u001b[0m\u001b[0;34m)\u001b[0m\u001b[0;34m\u001b[0m\u001b[0;34m\u001b[0m\u001b[0m\n\u001b[0m\u001b[1;32m    583\u001b[0m         \u001b[0;32mreturn\u001b[0m \u001b[0mself\u001b[0m\u001b[0;34m\u001b[0m\u001b[0;34m\u001b[0m\u001b[0m\n\u001b[1;32m    584\u001b[0m \u001b[0;34m\u001b[0m\u001b[0m\n",
      "\u001b[0;32m/usr/local/lib/python3.7/site-packages/yellowbrick/regressor/residuals.py\u001b[0m in \u001b[0;36mscore\u001b[0;34m(self, X, y, train, **kwargs)\u001b[0m\n\u001b[1;32m    608\u001b[0m         \"\"\"\n\u001b[1;32m    609\u001b[0m         \u001b[0;31m# Do not call super in order to differentiate train and test scores.\u001b[0m\u001b[0;34m\u001b[0m\u001b[0;34m\u001b[0m\u001b[0;34m\u001b[0m\u001b[0m\n\u001b[0;32m--> 610\u001b[0;31m         \u001b[0mscore\u001b[0m \u001b[0;34m=\u001b[0m \u001b[0mself\u001b[0m\u001b[0;34m.\u001b[0m\u001b[0mestimator\u001b[0m\u001b[0;34m.\u001b[0m\u001b[0mscore\u001b[0m\u001b[0;34m(\u001b[0m\u001b[0mX\u001b[0m\u001b[0;34m,\u001b[0m \u001b[0my\u001b[0m\u001b[0;34m,\u001b[0m \u001b[0;34m**\u001b[0m\u001b[0mkwargs\u001b[0m\u001b[0;34m)\u001b[0m\u001b[0;34m\u001b[0m\u001b[0;34m\u001b[0m\u001b[0m\n\u001b[0m\u001b[1;32m    611\u001b[0m         \u001b[0;32mif\u001b[0m \u001b[0mtrain\u001b[0m\u001b[0;34m:\u001b[0m\u001b[0;34m\u001b[0m\u001b[0;34m\u001b[0m\u001b[0m\n\u001b[1;32m    612\u001b[0m             \u001b[0mself\u001b[0m\u001b[0;34m.\u001b[0m\u001b[0mtrain_score_\u001b[0m \u001b[0;34m=\u001b[0m \u001b[0mscore\u001b[0m\u001b[0;34m\u001b[0m\u001b[0;34m\u001b[0m\u001b[0m\n",
      "\u001b[0;32m/usr/local/lib/python3.7/site-packages/sklearn/base.py\u001b[0m in \u001b[0;36mscore\u001b[0;34m(self, X, y, sample_weight)\u001b[0m\n\u001b[1;32m    420\u001b[0m         \u001b[0;32mfrom\u001b[0m \u001b[0;34m.\u001b[0m\u001b[0mmetrics\u001b[0m \u001b[0;32mimport\u001b[0m \u001b[0mr2_score\u001b[0m\u001b[0;34m\u001b[0m\u001b[0;34m\u001b[0m\u001b[0m\n\u001b[1;32m    421\u001b[0m         \u001b[0;32mfrom\u001b[0m \u001b[0;34m.\u001b[0m\u001b[0mmetrics\u001b[0m\u001b[0;34m.\u001b[0m\u001b[0m_regression\u001b[0m \u001b[0;32mimport\u001b[0m \u001b[0m_check_reg_targets\u001b[0m\u001b[0;34m\u001b[0m\u001b[0;34m\u001b[0m\u001b[0m\n\u001b[0;32m--> 422\u001b[0;31m         \u001b[0my_pred\u001b[0m \u001b[0;34m=\u001b[0m \u001b[0mself\u001b[0m\u001b[0;34m.\u001b[0m\u001b[0mpredict\u001b[0m\u001b[0;34m(\u001b[0m\u001b[0mX\u001b[0m\u001b[0;34m)\u001b[0m\u001b[0;34m\u001b[0m\u001b[0;34m\u001b[0m\u001b[0m\n\u001b[0m\u001b[1;32m    423\u001b[0m         \u001b[0;31m# XXX: Remove the check in 0.23\u001b[0m\u001b[0;34m\u001b[0m\u001b[0;34m\u001b[0m\u001b[0;34m\u001b[0m\u001b[0m\n\u001b[1;32m    424\u001b[0m         \u001b[0my_type\u001b[0m\u001b[0;34m,\u001b[0m \u001b[0m_\u001b[0m\u001b[0;34m,\u001b[0m \u001b[0m_\u001b[0m\u001b[0;34m,\u001b[0m \u001b[0m_\u001b[0m \u001b[0;34m=\u001b[0m \u001b[0m_check_reg_targets\u001b[0m\u001b[0;34m(\u001b[0m\u001b[0my\u001b[0m\u001b[0;34m,\u001b[0m \u001b[0my_pred\u001b[0m\u001b[0;34m,\u001b[0m \u001b[0;32mNone\u001b[0m\u001b[0;34m)\u001b[0m\u001b[0;34m\u001b[0m\u001b[0;34m\u001b[0m\u001b[0m\n",
      "\u001b[0;32m/usr/local/lib/python3.7/site-packages/sklearn/linear_model/_base.py\u001b[0m in \u001b[0;36mpredict\u001b[0;34m(self, X)\u001b[0m\n\u001b[1;32m    223\u001b[0m             \u001b[0mReturns\u001b[0m \u001b[0mpredicted\u001b[0m \u001b[0mvalues\u001b[0m\u001b[0;34m.\u001b[0m\u001b[0;34m\u001b[0m\u001b[0;34m\u001b[0m\u001b[0m\n\u001b[1;32m    224\u001b[0m         \"\"\"\n\u001b[0;32m--> 225\u001b[0;31m         \u001b[0;32mreturn\u001b[0m \u001b[0mself\u001b[0m\u001b[0;34m.\u001b[0m\u001b[0m_decision_function\u001b[0m\u001b[0;34m(\u001b[0m\u001b[0mX\u001b[0m\u001b[0;34m)\u001b[0m\u001b[0;34m\u001b[0m\u001b[0;34m\u001b[0m\u001b[0m\n\u001b[0m\u001b[1;32m    226\u001b[0m \u001b[0;34m\u001b[0m\u001b[0m\n\u001b[1;32m    227\u001b[0m     \u001b[0m_preprocess_data\u001b[0m \u001b[0;34m=\u001b[0m \u001b[0mstaticmethod\u001b[0m\u001b[0;34m(\u001b[0m\u001b[0m_preprocess_data\u001b[0m\u001b[0;34m)\u001b[0m\u001b[0;34m\u001b[0m\u001b[0;34m\u001b[0m\u001b[0m\n",
      "\u001b[0;32m/usr/local/lib/python3.7/site-packages/sklearn/linear_model/_base.py\u001b[0m in \u001b[0;36m_decision_function\u001b[0;34m(self, X)\u001b[0m\n\u001b[1;32m    207\u001b[0m         \u001b[0mX\u001b[0m \u001b[0;34m=\u001b[0m \u001b[0mcheck_array\u001b[0m\u001b[0;34m(\u001b[0m\u001b[0mX\u001b[0m\u001b[0;34m,\u001b[0m \u001b[0maccept_sparse\u001b[0m\u001b[0;34m=\u001b[0m\u001b[0;34m[\u001b[0m\u001b[0;34m'csr'\u001b[0m\u001b[0;34m,\u001b[0m \u001b[0;34m'csc'\u001b[0m\u001b[0;34m,\u001b[0m \u001b[0;34m'coo'\u001b[0m\u001b[0;34m]\u001b[0m\u001b[0;34m)\u001b[0m\u001b[0;34m\u001b[0m\u001b[0;34m\u001b[0m\u001b[0m\n\u001b[1;32m    208\u001b[0m         return safe_sparse_dot(X, self.coef_.T,\n\u001b[0;32m--> 209\u001b[0;31m                                dense_output=True) + self.intercept_\n\u001b[0m\u001b[1;32m    210\u001b[0m \u001b[0;34m\u001b[0m\u001b[0m\n\u001b[1;32m    211\u001b[0m     \u001b[0;32mdef\u001b[0m \u001b[0mpredict\u001b[0m\u001b[0;34m(\u001b[0m\u001b[0mself\u001b[0m\u001b[0;34m,\u001b[0m \u001b[0mX\u001b[0m\u001b[0;34m)\u001b[0m\u001b[0;34m:\u001b[0m\u001b[0;34m\u001b[0m\u001b[0;34m\u001b[0m\u001b[0m\n",
      "\u001b[0;32m/usr/local/lib/python3.7/site-packages/sklearn/utils/extmath.py\u001b[0m in \u001b[0;36msafe_sparse_dot\u001b[0;34m(a, b, dense_output)\u001b[0m\n\u001b[1;32m    149\u001b[0m             \u001b[0mret\u001b[0m \u001b[0;34m=\u001b[0m \u001b[0mnp\u001b[0m\u001b[0;34m.\u001b[0m\u001b[0mdot\u001b[0m\u001b[0;34m(\u001b[0m\u001b[0ma\u001b[0m\u001b[0;34m,\u001b[0m \u001b[0mb\u001b[0m\u001b[0;34m)\u001b[0m\u001b[0;34m\u001b[0m\u001b[0;34m\u001b[0m\u001b[0m\n\u001b[1;32m    150\u001b[0m     \u001b[0;32melse\u001b[0m\u001b[0;34m:\u001b[0m\u001b[0;34m\u001b[0m\u001b[0;34m\u001b[0m\u001b[0m\n\u001b[0;32m--> 151\u001b[0;31m         \u001b[0mret\u001b[0m \u001b[0;34m=\u001b[0m \u001b[0ma\u001b[0m \u001b[0;34m@\u001b[0m \u001b[0mb\u001b[0m\u001b[0;34m\u001b[0m\u001b[0;34m\u001b[0m\u001b[0m\n\u001b[0m\u001b[1;32m    152\u001b[0m \u001b[0;34m\u001b[0m\u001b[0m\n\u001b[1;32m    153\u001b[0m     if (sparse.issparse(a) and sparse.issparse(b)\n",
      "\u001b[0;31mValueError\u001b[0m: matmul: Input operand 1 has a mismatch in its core dimension 0, with gufunc signature (n?,k),(k,m?)->(n?,m?) (size 3 is different from 1)"
     ]
    },
    {
     "data": {
      "image/png": "[encoded data removed]",
      "text/plain": [
       "<Figure size 576x396 with 2 Axes>"
      ]
     },
     "metadata": {},
     "output_type": "display_data"
    }
   ],
   "source": [
    "from yellowbrick.regressor import ResidualsPlot\n",
    "fig, ax = plt.subplots(1, 2, tight_layout=True)\n",
    "ax[0].scatter(dist_reshaped, first_place)\n",
    "ax[0].plot(dist_reshaped, y_predict, '-o',color='r')\n",
    "ax[0].set_title(\"Predicting First Place Votes from Distance\", fontsize=14)\n",
    "ax[1].hist(results.resid)\n",
    "ax[1].set_title(\"Residual Histogram\", fontsize=14)\n",
    "plt.show()\n",
    "\n",
    "visualizer = ResidualsPlot(reg)\n",
    "visualizer.fit(dist_reshaped, first_place)\n",
    "visualizer.show()"
   ]
  },
  {
   "cell_type": "markdown",
   "metadata": {},
   "source": [
    "Now, let's investigate those outliers"
   ]
  },
  {
   "cell_type": "code",
   "execution_count": 29,
   "metadata": {},
   "outputs": [
    {
     "data": {
      "text/html": [
       "<div>\n",
       "<style scoped>\n",
       "    .dataframe tbody tr th:only-of-type {\n",
       "        vertical-align: middle;\n",
       "    }\n",
       "\n",
       "    .dataframe tbody tr th {\n",
       "        vertical-align: top;\n",
       "    }\n",
       "\n",
       "    .dataframe thead th {\n",
       "        text-align: right;\n",
       "    }\n",
       "</style>\n",
       "<table border=\"1\" class=\"dataframe\">\n",
       "  <thead>\n",
       "    <tr style=\"text-align: right;\">\n",
       "      <th></th>\n",
       "      <th>1</th>\n",
       "      <th>2</th>\n",
       "      <th>3</th>\n",
       "      <th>4</th>\n",
       "      <th>5</th>\n",
       "      <th>6</th>\n",
       "      <th>7</th>\n",
       "      <th>8</th>\n",
       "      <th>9</th>\n",
       "      <th>10</th>\n",
       "      <th>11</th>\n",
       "      <th>12</th>\n",
       "      <th>dist</th>\n",
       "    </tr>\n",
       "    <tr>\n",
       "      <th>House</th>\n",
       "      <th></th>\n",
       "      <th></th>\n",
       "      <th></th>\n",
       "      <th></th>\n",
       "      <th></th>\n",
       "      <th></th>\n",
       "      <th></th>\n",
       "      <th></th>\n",
       "      <th></th>\n",
       "      <th></th>\n",
       "      <th></th>\n",
       "      <th></th>\n",
       "      <th></th>\n",
       "    </tr>\n",
       "  </thead>\n",
       "  <tbody>\n",
       "    <tr>\n",
       "      <th>Adams</th>\n",
       "      <td>20</td>\n",
       "      <td>15</td>\n",
       "      <td>24</td>\n",
       "      <td>38</td>\n",
       "      <td>37</td>\n",
       "      <td>44</td>\n",
       "      <td>67</td>\n",
       "      <td>75</td>\n",
       "      <td>74</td>\n",
       "      <td>28</td>\n",
       "      <td>32</td>\n",
       "      <td>80</td>\n",
       "      <td>2</td>\n",
       "    </tr>\n",
       "    <tr>\n",
       "      <th>Cabot</th>\n",
       "      <td>5</td>\n",
       "      <td>13</td>\n",
       "      <td>16</td>\n",
       "      <td>17</td>\n",
       "      <td>7</td>\n",
       "      <td>20</td>\n",
       "      <td>16</td>\n",
       "      <td>31</td>\n",
       "      <td>49</td>\n",
       "      <td>118</td>\n",
       "      <td>148</td>\n",
       "      <td>94</td>\n",
       "      <td>15</td>\n",
       "    </tr>\n",
       "    <tr>\n",
       "      <th>Kirkland</th>\n",
       "      <td>19</td>\n",
       "      <td>19</td>\n",
       "      <td>35</td>\n",
       "      <td>50</td>\n",
       "      <td>71</td>\n",
       "      <td>63</td>\n",
       "      <td>72</td>\n",
       "      <td>70</td>\n",
       "      <td>56</td>\n",
       "      <td>24</td>\n",
       "      <td>24</td>\n",
       "      <td>31</td>\n",
       "      <td>7</td>\n",
       "    </tr>\n",
       "    <tr>\n",
       "      <th>Mather</th>\n",
       "      <td>17</td>\n",
       "      <td>15</td>\n",
       "      <td>19</td>\n",
       "      <td>25</td>\n",
       "      <td>27</td>\n",
       "      <td>40</td>\n",
       "      <td>44</td>\n",
       "      <td>67</td>\n",
       "      <td>112</td>\n",
       "      <td>37</td>\n",
       "      <td>55</td>\n",
       "      <td>76</td>\n",
       "      <td>8</td>\n",
       "    </tr>\n",
       "    <tr>\n",
       "      <th>Quincy</th>\n",
       "      <td>28</td>\n",
       "      <td>43</td>\n",
       "      <td>55</td>\n",
       "      <td>90</td>\n",
       "      <td>71</td>\n",
       "      <td>82</td>\n",
       "      <td>65</td>\n",
       "      <td>44</td>\n",
       "      <td>21</td>\n",
       "      <td>17</td>\n",
       "      <td>14</td>\n",
       "      <td>4</td>\n",
       "      <td>3</td>\n",
       "    </tr>\n",
       "    <tr>\n",
       "      <th>Leverett</th>\n",
       "      <td>11</td>\n",
       "      <td>22</td>\n",
       "      <td>40</td>\n",
       "      <td>73</td>\n",
       "      <td>76</td>\n",
       "      <td>81</td>\n",
       "      <td>94</td>\n",
       "      <td>66</td>\n",
       "      <td>36</td>\n",
       "      <td>18</td>\n",
       "      <td>11</td>\n",
       "      <td>6</td>\n",
       "      <td>5</td>\n",
       "    </tr>\n",
       "    <tr>\n",
       "      <th>Dunster</th>\n",
       "      <td>45</td>\n",
       "      <td>67</td>\n",
       "      <td>113</td>\n",
       "      <td>56</td>\n",
       "      <td>70</td>\n",
       "      <td>42</td>\n",
       "      <td>44</td>\n",
       "      <td>52</td>\n",
       "      <td>19</td>\n",
       "      <td>10</td>\n",
       "      <td>11</td>\n",
       "      <td>5</td>\n",
       "      <td>7</td>\n",
       "    </tr>\n",
       "    <tr>\n",
       "      <th>Currier</th>\n",
       "      <td>14</td>\n",
       "      <td>10</td>\n",
       "      <td>16</td>\n",
       "      <td>15</td>\n",
       "      <td>18</td>\n",
       "      <td>19</td>\n",
       "      <td>20</td>\n",
       "      <td>23</td>\n",
       "      <td>43</td>\n",
       "      <td>92</td>\n",
       "      <td>114</td>\n",
       "      <td>150</td>\n",
       "      <td>16</td>\n",
       "    </tr>\n",
       "    <tr>\n",
       "      <th>Eliot</th>\n",
       "      <td>37</td>\n",
       "      <td>57</td>\n",
       "      <td>60</td>\n",
       "      <td>67</td>\n",
       "      <td>57</td>\n",
       "      <td>76</td>\n",
       "      <td>49</td>\n",
       "      <td>40</td>\n",
       "      <td>38</td>\n",
       "      <td>23</td>\n",
       "      <td>16</td>\n",
       "      <td>14</td>\n",
       "      <td>7</td>\n",
       "    </tr>\n",
       "    <tr>\n",
       "      <th>Lowell</th>\n",
       "      <td>152</td>\n",
       "      <td>106</td>\n",
       "      <td>63</td>\n",
       "      <td>51</td>\n",
       "      <td>45</td>\n",
       "      <td>35</td>\n",
       "      <td>22</td>\n",
       "      <td>24</td>\n",
       "      <td>14</td>\n",
       "      <td>5</td>\n",
       "      <td>7</td>\n",
       "      <td>10</td>\n",
       "      <td>2</td>\n",
       "    </tr>\n",
       "    <tr>\n",
       "      <th>Pforzheimer</th>\n",
       "      <td>10</td>\n",
       "      <td>21</td>\n",
       "      <td>15</td>\n",
       "      <td>6</td>\n",
       "      <td>16</td>\n",
       "      <td>19</td>\n",
       "      <td>29</td>\n",
       "      <td>33</td>\n",
       "      <td>66</td>\n",
       "      <td>158</td>\n",
       "      <td>98</td>\n",
       "      <td>63</td>\n",
       "      <td>17</td>\n",
       "    </tr>\n",
       "    <tr>\n",
       "      <th>Winthrop</th>\n",
       "      <td>176</td>\n",
       "      <td>146</td>\n",
       "      <td>78</td>\n",
       "      <td>46</td>\n",
       "      <td>39</td>\n",
       "      <td>13</td>\n",
       "      <td>12</td>\n",
       "      <td>9</td>\n",
       "      <td>6</td>\n",
       "      <td>4</td>\n",
       "      <td>4</td>\n",
       "      <td>1</td>\n",
       "      <td>6</td>\n",
       "    </tr>\n",
       "  </tbody>\n",
       "</table>\n",
       "</div>"
      ],
      "text/plain": [
       "               1    2    3   4   5   6   7   8    9   10   11   12  dist\n",
       "House                                                                   \n",
       "Adams         20   15   24  38  37  44  67  75   74   28   32   80     2\n",
       "Cabot          5   13   16  17   7  20  16  31   49  118  148   94    15\n",
       "Kirkland      19   19   35  50  71  63  72  70   56   24   24   31     7\n",
       "Mather        17   15   19  25  27  40  44  67  112   37   55   76     8\n",
       "Quincy        28   43   55  90  71  82  65  44   21   17   14    4     3\n",
       "Leverett      11   22   40  73  76  81  94  66   36   18   11    6     5\n",
       "Dunster       45   67  113  56  70  42  44  52   19   10   11    5     7\n",
       "Currier       14   10   16  15  18  19  20  23   43   92  114  150    16\n",
       "Eliot         37   57   60  67  57  76  49  40   38   23   16   14     7\n",
       "Lowell       152  106   63  51  45  35  22  24   14    5    7   10     2\n",
       "Pforzheimer   10   21   15   6  16  19  29  33   66  158   98   63    17\n",
       "Winthrop     176  146   78  46  39  13  12   9    6    4    4    1     6"
      ]
     },
     "execution_count": 29,
     "metadata": {},
     "output_type": "execute_result"
    }
   ],
   "source": [
    "rankings['dist'] = dist \n",
    "rankings"
   ]
  },
  {
   "cell_type": "markdown",
   "metadata": {},
   "source": [
    "The outliers are Lowell and Winthrop! I suspect that the recent renovations are causing these two houses to have lots of first place votes despite their distances from Widener. If only there was some way to control for renovations..."
   ]
  },
  {
   "cell_type": "markdown",
   "metadata": {},
   "source": [
    "## Multiple Regression (and matching)\n",
    "\n",
    "We can also run a regression model with more than one predictor variables. All you have to do is add the predictors to your design matrix X and use the lm.fit() command. This allows us to control for confounding variables.\n",
    "\n",
    "What's going on here? Think about it this way. We replace the unconditional comparison\n",
    "\n",
    "$$ E[Y_i | X_{1i} = 1] - E[Y_i | X_{1i} = 0] $$\n",
    "\n",
    "With a set of conditional comparisons, \n",
    "\n",
    "$$ E[Y_i | X_{1i} = 1, X_{2i} = x] - E[Y_i | X_{1i} = 0, X_{2i} = x] $$\n",
    "\n",
    "That is, we look at $Y$ given $X_{1i}$ *conditional on* $X_{2i} = x$. Note this takes on as many values as there are values of $X_2$.\n",
    "\n",
    "Here, I've fitted a model to predict number of first-choice votes each house received, with two predictor variables. I've given you two possible variables below, though you're welcome to find more, or different ones. Again, note that you may need to reshape data.\n",
    "\n",
    "*Hint: You still need to find the dependent variable, and structure it like the `levCounts` variable above.*"
   ]
  },
  {
   "cell_type": "code",
   "execution_count": 30,
   "metadata": {},
   "outputs": [
    {
     "data": {
      "text/plain": [
       "[array([31.89518947]), array([[-1.40647675, 56.9746036 ]])]"
      ]
     },
     "execution_count": 30,
     "metadata": {},
     "output_type": "execute_result"
    }
   ],
   "source": [
    "#walking time from Widener Library (in minutes), from Google Maps\n",
    "dist = [2, 15, 7, 8, 3, 5, 7, 16, 7, 2, 17, 6]\n",
    "#was the house renovated in last 10 years? 1 if true\n",
    "renovated = [0, 0, 0, 0, 1, 1, 1, 0, 0, 1, 0, 1]\n",
    "\n",
    "X = np.matrix([dist, renovated]).transpose()\n",
    "Y = [rankings.values[i,0] for i in range(0, 12)]\n",
    "Y = np.array([Y]).reshape(-1, 1)\n",
    "\n",
    "reg = lm.fit(X, Y)\n",
    "[reg.intercept_, reg.coef_]"
   ]
  },
  {
   "cell_type": "markdown",
   "metadata": {},
   "source": [
    "Again, you can do this using an OLS Object as well with properly formatted data. "
   ]
  },
  {
   "cell_type": "code",
   "execution_count": 31,
   "metadata": {},
   "outputs": [
    {
     "name": "stderr",
     "output_type": "stream",
     "text": [
      "/usr/local/lib/python3.7/site-packages/scipy/stats/stats.py:1535: UserWarning: kurtosistest only valid for n>=20 ... continuing anyway, n=12\n",
      "  \"anyway, n=%i\" % int(n))\n"
     ]
    },
    {
     "data": {
      "text/html": [
       "<table class=\"simpletable\">\n",
       "<caption>OLS Regression Results</caption>\n",
       "<tr>\n",
       "  <th>Dep. Variable:</th>            <td>y</td>        <th>  R-squared:         </th> <td>   0.354</td>\n",
       "</tr>\n",
       "<tr>\n",
       "  <th>Model:</th>                   <td>OLS</td>       <th>  Adj. R-squared:    </th> <td>   0.210</td>\n",
       "</tr>\n",
       "<tr>\n",
       "  <th>Method:</th>             <td>Least Squares</td>  <th>  F-statistic:       </th> <td>   2.464</td>\n",
       "</tr>\n",
       "<tr>\n",
       "  <th>Date:</th>             <td>Sun, 01 Mar 2020</td> <th>  Prob (F-statistic):</th>  <td> 0.140</td> \n",
       "</tr>\n",
       "<tr>\n",
       "  <th>Time:</th>                 <td>13:34:31</td>     <th>  Log-Likelihood:    </th> <td> -62.443</td>\n",
       "</tr>\n",
       "<tr>\n",
       "  <th>No. Observations:</th>      <td>    12</td>      <th>  AIC:               </th> <td>   130.9</td>\n",
       "</tr>\n",
       "<tr>\n",
       "  <th>Df Residuals:</th>          <td>     9</td>      <th>  BIC:               </th> <td>   132.3</td>\n",
       "</tr>\n",
       "<tr>\n",
       "  <th>Df Model:</th>              <td>     2</td>      <th>                     </th>     <td> </td>   \n",
       "</tr>\n",
       "<tr>\n",
       "  <th>Covariance Type:</th>      <td>nonrobust</td>    <th>                     </th>     <td> </td>   \n",
       "</tr>\n",
       "</table>\n",
       "<table class=\"simpletable\">\n",
       "<tr>\n",
       "    <td></td>       <th>coef</th>     <th>std err</th>      <th>t</th>      <th>P>|t|</th>  <th>[0.025</th>    <th>0.975]</th>  \n",
       "</tr>\n",
       "<tr>\n",
       "  <th>const</th> <td>   31.8952</td> <td>   40.678</td> <td>    0.784</td> <td> 0.453</td> <td>  -60.125</td> <td>  123.916</td>\n",
       "</tr>\n",
       "<tr>\n",
       "  <th>x1</th>    <td>   -1.4065</td> <td>    3.486</td> <td>   -0.403</td> <td> 0.696</td> <td>   -9.292</td> <td>    6.479</td>\n",
       "</tr>\n",
       "<tr>\n",
       "  <th>x2</th>    <td>   56.9746</td> <td>   35.759</td> <td>    1.593</td> <td> 0.146</td> <td>  -23.918</td> <td>  137.867</td>\n",
       "</tr>\n",
       "</table>\n",
       "<table class=\"simpletable\">\n",
       "<tr>\n",
       "  <th>Omnibus:</th>       <td> 1.891</td> <th>  Durbin-Watson:     </th> <td>   0.921</td>\n",
       "</tr>\n",
       "<tr>\n",
       "  <th>Prob(Omnibus):</th> <td> 0.388</td> <th>  Jarque-Bera (JB):  </th> <td>   0.658</td>\n",
       "</tr>\n",
       "<tr>\n",
       "  <th>Skew:</th>          <td> 0.572</td> <th>  Prob(JB):          </th> <td>   0.720</td>\n",
       "</tr>\n",
       "<tr>\n",
       "  <th>Kurtosis:</th>      <td> 3.089</td> <th>  Cond. No.          </th> <td>    32.6</td>\n",
       "</tr>\n",
       "</table><br/><br/>Warnings:<br/>[1] Standard Errors assume that the covariance matrix of the errors is correctly specified."
      ],
      "text/plain": [
       "<class 'statsmodels.iolib.summary.Summary'>\n",
       "\"\"\"\n",
       "                            OLS Regression Results                            \n",
       "==============================================================================\n",
       "Dep. Variable:                      y   R-squared:                       0.354\n",
       "Model:                            OLS   Adj. R-squared:                  0.210\n",
       "Method:                 Least Squares   F-statistic:                     2.464\n",
       "Date:                Sun, 01 Mar 2020   Prob (F-statistic):              0.140\n",
       "Time:                        13:34:31   Log-Likelihood:                -62.443\n",
       "No. Observations:                  12   AIC:                             130.9\n",
       "Df Residuals:                       9   BIC:                             132.3\n",
       "Df Model:                           2                                         \n",
       "Covariance Type:            nonrobust                                         \n",
       "==============================================================================\n",
       "                 coef    std err          t      P>|t|      [0.025      0.975]\n",
       "------------------------------------------------------------------------------\n",
       "const         31.8952     40.678      0.784      0.453     -60.125     123.916\n",
       "x1            -1.4065      3.486     -0.403      0.696      -9.292       6.479\n",
       "x2            56.9746     35.759      1.593      0.146     -23.918     137.867\n",
       "==============================================================================\n",
       "Omnibus:                        1.891   Durbin-Watson:                   0.921\n",
       "Prob(Omnibus):                  0.388   Jarque-Bera (JB):                0.658\n",
       "Skew:                           0.572   Prob(JB):                        0.720\n",
       "Kurtosis:                       3.089   Cond. No.                         32.6\n",
       "==============================================================================\n",
       "\n",
       "Warnings:\n",
       "[1] Standard Errors assume that the covariance matrix of the errors is correctly specified.\n",
       "\"\"\""
      ]
     },
     "execution_count": 31,
     "metadata": {},
     "output_type": "execute_result"
    }
   ],
   "source": [
    "X_ols = sm.add_constant(X)\n",
    "mod = sm.OLS(Y,X_ols)\n",
    "results = mod.fit()\n",
    "results.summary()"
   ]
  },
  {
   "cell_type": "markdown",
   "metadata": {},
   "source": [
    "Now let's plot our prediction lines again."
   ]
  },
  {
   "cell_type": "code",
   "execution_count": 32,
   "metadata": {},
   "outputs": [
    {
     "name": "stdout",
     "output_type": "stream",
     "text": [
      "[31.89518947 -1.40647675 56.9746036 ]\n"
     ]
    },
    {
     "data": {
      "image/png": "[encoded data removed]",
      "text/plain": [
       "<Figure size 576x396 with 1 Axes>"
      ]
     },
     "metadata": {},
     "output_type": "display_data"
    }
   ],
   "source": [
    "#X, Y is the order\n",
    "coef = results.params\n",
    "print(coef)\n",
    "y_predict = np.multiply(dist_reshaped,beta1) + beta0\n",
    "\n",
    "x = np.linspace(1,17,100)\n",
    "y_0 = coef[1]*dist_reshaped+coef[0]\n",
    "y_1 = (coef[1])*dist_reshaped + coef[0] + coef[2]\n",
    "\n",
    "fig, ax = plt.subplots(1, 1, tight_layout=True)\n",
    "ax.scatter(dist_reshaped, first_place)\n",
    "ax.plot(dist_reshaped, y_0, '-',color='r')\n",
    "ax.plot(dist_reshaped, y_1, '-',color='g')\n",
    "ax.set_title(\"Predicting First Place Votes from Distance\", fontsize=14)\n",
    "plt.show()"
   ]
  },
  {
   "cell_type": "markdown",
   "metadata": {},
   "source": [
    "Obviously, this helped a lot. "
   ]
  },
  {
   "cell_type": "markdown",
   "metadata": {},
   "source": [
    "## Interpreting your Coefficients\n",
    "In multiple regression, we control for certain variables by introducing them as predictors. In this case, the coefficient -1.4065 is the change in first-place votes for a one unit change in distance from Widener library controlling for whether or not a house has been renovated. \n",
    "\n",
    "The coefficient 56.9746 is the change in first-place votes for a one unit change in the renovations indicator variable holding distance from Widener library constant. In other words, if a house is renovated, we can expect a 56.9746 increase in first-place votes, controlling for distance to Widener. \n",
    "\n",
    "Sometimes, we have coefficients whose interpretations don't really make that much sense or that aren't really useful. For example, the coefficient 31.8952 is the expected number of first place votes that a non-renovated house 0 minutes from Widener would receive. While this isn't hard to interpret, it's not that useful unless Harvard was thinking about bulldozing Widener to build a new house. "
   ]
  },
  {
   "cell_type": "markdown",
   "metadata": {},
   "source": [
    "### Prediction\n",
    "Finally, one of the most useful things we can do with a predictive model is make predictions! Assuming you called your model `reg`, use the command below to predict the number of first choice votes for Adams House after the renovations."
   ]
  },
  {
   "cell_type": "code",
   "execution_count": 33,
   "metadata": {},
   "outputs": [
    {
     "data": {
      "text/plain": [
       "array([[86.05683956]])"
      ]
     },
     "execution_count": 33,
     "metadata": {},
     "output_type": "execute_result"
    }
   ],
   "source": [
    "reg.predict(np.array([[2, 1]]))"
   ]
  },
  {
   "cell_type": "markdown",
   "metadata": {},
   "source": [
    "## Your Turn\n",
    "Let's return back to our healthcare example. With our knowledge of potential outcomes, we should be ready to take on some more sophisticated analyses! First, just regress health insurance (hi) on health (hlth). Then, add age, years of education, and income to our comparison of health between the insured and uninsured.\n",
    "\n",
    "Recall that in the NHIS dataset, health insurance is 1 if you have it and 0 if you do not, years of education is yedu, and employment and income are empl and inc.\n",
    "\n",
    "How do our estimates change?\n",
    "\n",
    "If you finish, trying adding the same to our RAND comparison. Does it change our estimates there?"
   ]
  },
  {
   "cell_type": "code",
   "execution_count": null,
   "metadata": {},
   "outputs": [],
   "source": [
    "# Run this to clean up the dataset a bit more\n",
    "nhis = nhis[nhis['age'].apply(lambda x: str(x).isdigit())]\n",
    "nhis = nhis.dropna(subset=['hi', 'age', 'inc', 'yedu', 'empl', 'hlth'])"
   ]
  },
  {
   "cell_type": "code",
   "execution_count": 22,
   "metadata": {},
   "outputs": [],
   "source": [
    "import statsmodels.api as sm\n",
    "\n",
    "## TODO ##\n"
   ]
  }
 ],
 "metadata": {
  "kernelspec": {
   "display_name": "Python 3",
   "language": "python",
   "name": "python3"
  },
  "language_info": {
   "codemirror_mode": {
    "name": "ipython",
    "version": 3
   },
   "file_extension": ".py",
   "mimetype": "text/x-python",
   "name": "python",
   "nbconvert_exporter": "python",
   "pygments_lexer": "ipython3",
   "version": "3.8.3"
  }
 },
 "nbformat": 4,
 "nbformat_minor": 2
}
